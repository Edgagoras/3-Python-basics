{
 "cells": [
  {
   "cell_type": "markdown",
   "metadata": {},
   "source": [
    "# 3-Python-basics Code Review\n",
    "### 2.18.2018\n",
    "#### Reviewer: Alexander M. Procton (aprocton)\n",
    "#### Code by: Nicholas Locatelli (mistergroot)\n",
    "## Notebook 3.3"
   ]
  },
  {
   "cell_type": "code",
   "execution_count": 3,
   "metadata": {},
   "outputs": [],
   "source": [
    "import os\n",
    "import gzip\n",
    "import requests"
   ]
  },
  {
   "cell_type": "markdown",
   "metadata": {},
   "source": [
    "### Download the iris data set and write it to a file"
   ]
  },
  {
   "cell_type": "code",
   "execution_count": 4,
   "metadata": {},
   "outputs": [],
   "source": [
    "iris = \"http://eaton-lab.org/data/iris-data-dirty.csv\"\n",
    "ffile = open(\"./iris-data-dirty.csv\", 'w')\n",
    "ffile.write(requests.get(iris).text)\n",
    "ffile.close()"
   ]
  },
  {
   "cell_type": "markdown",
   "metadata": {},
   "source": [
    "__aprocton:__ This (and other operations on files for other challenges) could have been done using `with as`, for example:\n",
    "\n",
    "```python\n",
    "with open(\"./iris-data-dirty.csv\", 'w') as outfile:\n",
    "    outfile.write(requests.get(\"http://eaton-lab.org/data/iris-data-dirty.csv\").text)\n",
    "```\n",
    "### read in the iris data set from its filepath and store the data as a string"
   ]
  },
  {
   "cell_type": "code",
   "execution_count": 5,
   "metadata": {},
   "outputs": [],
   "source": [
    "irisstring = open(\"./iris-data-dirty.csv\", 'r')\n",
    "irisread = irisstring.read()"
   ]
  },
  {
   "cell_type": "markdown",
   "metadata": {},
   "source": [
    "__aprocton:__ In this cell, you should call `irisstring.close()` to end the connection to `iris-data-dirty.csv`.\n",
    "### replace \"setsa\" with \"setosa\" and \"colour\" with \"color\" in the string data"
   ]
  },
  {
   "cell_type": "code",
   "execution_count": 6,
   "metadata": {},
   "outputs": [],
   "source": [
    "iris1=irisread.replace(\"setsa\", \"setosa\")\n",
    "iris2=iris1.replace(\"colour\", \"color\")"
   ]
  },
  {
   "cell_type": "markdown",
   "metadata": {},
   "source": [
    "__aprocton:__ These strings could also have been assigned to `irisread` so that no new variables would need to be created.\n",
    "### split the string to convert it into a list of lines from the file\n",
    "### strip the newline character from the end of each list element"
   ]
  },
  {
   "cell_type": "code",
   "execution_count": 7,
   "metadata": {},
   "outputs": [],
   "source": [
    "irisstrip=iris2.strip().split('\\n')"
   ]
  },
  {
   "cell_type": "markdown",
   "metadata": {},
   "source": [
    "### remove any lines that are empty or have \"NA\" in them."
   ]
  },
  {
   "cell_type": "code",
   "execution_count": 18,
   "metadata": {},
   "outputs": [],
   "source": [
    "clean=open(\"irisNA\", \"w\")\n",
    "for line in irisstrip:\n",
    "    if \"NA\" not in line:\n",
    "        clean.write(line + \"\\n\")\n",
    "clean.close()"
   ]
  },
  {
   "cell_type": "markdown",
   "metadata": {},
   "source": [
    "__aprocton:__ This loop should have a separate or combined `if` statement that accounts for both \"NA\" and blank lines. It was not necessary to write `clean` to a file instead of storing as a list object. My code using both approaches:\n",
    "\n",
    "```python\n",
    "clean = []\n",
    "\n",
    "for line in data:\n",
    "    if ('NA' not in line) and ('Iris' in line):\n",
    "        clean.append(line)\n",
    "```\n",
    "### concatenate the list back into a string with newline characters between lines"
   ]
  },
  {
   "cell_type": "code",
   "execution_count": 21,
   "metadata": {},
   "outputs": [],
   "source": [
    "clean2=open(\"irisNA\",\"r\")\n",
    "final=clean2.read()\n",
    "clean2.close()"
   ]
  },
  {
   "cell_type": "markdown",
   "metadata": {},
   "source": [
    "__aprocton:__ You essentially already did this by writing `line + \"\\n\"` to `clean` in the last cell.\n",
    "If the data were in a list, you could use `\"\\n\".join(list)` to create a single string.\n",
    "### write the string to a new file called \"iris-data-clean.csv\""
   ]
  },
  {
   "cell_type": "code",
   "execution_count": 23,
   "metadata": {},
   "outputs": [],
   "source": [
    "curdir = os.path.abspath('.')\n",
    "clean2 = os.path.join(curdir, \"iris-data-clean.csv\")\n",
    "ffile = open(\"iris-data-clean.csv\", 'w')\n",
    "ffile.write(final)\n",
    "ffile.close()"
   ]
  },
  {
   "cell_type": "markdown",
   "metadata": {},
   "source": [
    "__aprocton:__ I'm not sure that \n",
    "```python\n",
    "curdir = os.path.abspath('.')\n",
    "clean2 = os.path.join(curdir, \"iris-data-clean.csv\")\n",
    "```\n",
    "was necessary, as you should have already been operating in the directory that this notebook is downloaded in? I'm not sure, but I think you can just use `\"./iris-data-clean.csv\"` as your output path.\n",
    "\n",
    "## Notebook 3.4\n",
    "### A. Write a function that will generate and return a random sequence of bases of length N."
   ]
  },
  {
   "cell_type": "code",
   "execution_count": 24,
   "metadata": {},
   "outputs": [
    {
     "data": {
      "text/plain": [
       "['G', 'T', 'T', 'T', 'T', 'G', 'A', 'A', 'G', 'C']"
      ]
     },
     "execution_count": 24,
     "metadata": {},
     "output_type": "execute_result"
    }
   ],
   "source": [
    "import random\n",
    "def randseq(x):\n",
    "    \"Return x number of random bases\"\n",
    "    bases=[\"A\",\"T\",\"G\",\"C\"]\n",
    "    return random.choices(bases,k=x)\n",
    "\n",
    "# testing\n",
    "randseq(10)"
   ]
  },
  {
   "cell_type": "markdown",
   "metadata": {},
   "source": [
    "__aprocton:__ I used `random.choice()` instead of `random.choices()`, which would have made my code much simpler.\n",
    "\n",
    "### B. Write a function to calculate and return the frequency of As, Cs, Ts and Gs in a sequence."
   ]
  },
  {
   "cell_type": "code",
   "execution_count": 25,
   "metadata": {},
   "outputs": [],
   "source": [
    "def freqATGC(x):\n",
    "    \"Count number of occurrences of each nucleotide (A,T,G,C, in that order) and divide by the total length of the sequence to get the frequency\"\n",
    "    countA=x.count(\"A\")\n",
    "    countT=x.count(\"T\")\n",
    "    countG=x.count(\"G\")\n",
    "    countC=x.count(\"C\")\n",
    "    bases=[\"A\",\"T\",\"G\",\"C\"]\n",
    "    return (countA/(len(x)),countT/(len(x)),countG/(len(x)),countC/(len(x)))"
   ]
  },
  {
   "cell_type": "markdown",
   "metadata": {},
   "source": [
    "__aprocton:__ Interesting that you decided to return the frequencies as a tuple. My code included an \"other\" option in case there are errors in the sequency, but did not use `count()`.\n",
    "### C. Write a function to concatenate (join end-to-end) two sequences and return it"
   ]
  },
  {
   "cell_type": "code",
   "execution_count": 26,
   "metadata": {},
   "outputs": [],
   "source": [
    "def comboseq(seq1, seq2):\n",
    "    \"Concatenate two sequences into a single sequence\"\n",
    "    return seq1 + seq2"
   ]
  },
  {
   "cell_type": "markdown",
   "metadata": {},
   "source": [
    "__aprocton:__ I chose to use an `if` statement to check if both sequences were strings and return an error if not.\n",
    "\n",
    "### D. Write a function to take two sequences of different lengths and return both trimmed down to be the same length."
   ]
  },
  {
   "cell_type": "code",
   "execution_count": 27,
   "metadata": {},
   "outputs": [],
   "source": [
    "def trim(seq1, seq2):\n",
    "    \"Returns seq1 and seq2 trimmed to the length of the shortest sequence\"\n",
    "    ## finding the length of the shortest sequence\n",
    "    slen = min([len(i) for i in (seq1, seq2)])\n",
    "    return ((seq1[0:slen]),(seq2[0:slen]))"
   ]
  },
  {
   "cell_type": "markdown",
   "metadata": {},
   "source": [
    "__aprocton:__ I did not use `min()`, which necessitated the use of an `if-elif` ladder.\n",
    "\n",
    "### E. Write a function to return the proportion of bases across the shared length between two sequences that are the same."
   ]
  },
  {
   "cell_type": "code",
   "execution_count": 30,
   "metadata": {},
   "outputs": [],
   "source": [
    "def prop(seq1, seq2):\n",
    "    \"return the proportion of similarity between two trimmed sequences\"\n",
    "    ## a counter to store the number of similarities\n",
    "    count = 0    \n",
    "    ## finding the length of the shortest sequence\n",
    "    slen = min([len(i) for i in (seq1, seq2)])\n",
    "    ## trimming each sequence to the length of the shortest\n",
    "    seq1=str(seq1[0:slen])\n",
    "    seq2=str(seq2[0:slen])\n",
    "    \n",
    "    ## modified from example; count shared bases from trimmed sequences and then return the \n",
    "    ## count divided by the total number of bases\n",
    "    for idx in range(slen):\n",
    "        if seq1[idx] == seq2[idx]:\n",
    "            count += 1\n",
    "    return (count)/(len(seq2))"
   ]
  },
  {
   "cell_type": "markdown",
   "metadata": {},
   "source": [
    "__aprocton:__ You could have called the `trim()` function you wrote in the previous cell to find `slen`."
   ]
  }
 ],
 "metadata": {
  "kernelspec": {
   "display_name": "Python 3",
   "language": "python",
   "name": "python3"
  },
  "language_info": {
   "codemirror_mode": {
    "name": "ipython",
    "version": 3
   },
   "file_extension": ".py",
   "mimetype": "text/x-python",
   "name": "python",
   "nbconvert_exporter": "python",
   "pygments_lexer": "ipython3",
   "version": "3.6.3"
  }
 },
 "nbformat": 4,
 "nbformat_minor": 2
}
