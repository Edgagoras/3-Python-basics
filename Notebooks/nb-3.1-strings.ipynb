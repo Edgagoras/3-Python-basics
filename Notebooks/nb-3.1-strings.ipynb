{
 "cells": [
  {
   "cell_type": "markdown",
   "metadata": {},
   "source": [
    "# Notebook 3.1: String operations"
   ]
  },
  {
   "cell_type": "markdown",
   "metadata": {},
   "source": [
    "The code in this notebook corresponds to notes in lecture 3. In this notebook you can follow along and execute or modify code as we go. All code in this notebook uses the `Python3` standard library. "
   ]
  },
  {
   "cell_type": "markdown",
   "metadata": {},
   "source": [
    "## Working with strings in Python "
   ]
  },
  {
   "cell_type": "markdown",
   "metadata": {},
   "source": [
    "A \"string\" is the name used in Python for words, sentences, or paragraphs of text that are joined together. It is one of the most basic data types and one that Python is very good at dealing with. In fact, the ease with which Python can be used to manipulate text is one of the primary reasons it bas become such a popular language for both scientific programming as well and web development. "
   ]
  },
  {
   "cell_type": "markdown",
   "metadata": {},
   "source": [
    "### Strings as variables\n",
    "Your reading this week introduced the concept of storing variables in Python. We assign a value to a variable using the `=` sign. Below a string variable named `mystring` is created in this way. The name is arbitrary and could be almost anything."
   ]
  },
  {
   "cell_type": "code",
   "execution_count": 1,
   "metadata": {},
   "outputs": [],
   "source": [
    "mystring = \"a string of text\""
   ]
  },
  {
   "cell_type": "markdown",
   "metadata": {},
   "source": [
    "### Manipulating strings\n",
    "Strings are an *indexed* datatype that is *immutable*. This means that we can select portions of the text using indexed numbering, but we cannot modify individual parts of it. We can however make new strings from existing ones and assign them to a variable. This is demonstrated below. "
   ]
  },
  {
   "cell_type": "code",
   "execution_count": 2,
   "metadata": {},
   "outputs": [
    {
     "data": {
      "text/plain": [
       "'a'"
      ]
     },
     "execution_count": 2,
     "metadata": {},
     "output_type": "execute_result"
    }
   ],
   "source": [
    "## indexing: select the first element of a string (Python index starts at 0)\n",
    "mystring[0]"
   ]
  },
  {
   "cell_type": "code",
   "execution_count": 3,
   "metadata": {},
   "outputs": [
    {
     "data": {
      "text/plain": [
       "'t'"
      ]
     },
     "execution_count": 3,
     "metadata": {},
     "output_type": "execute_result"
    }
   ],
   "source": [
    "## indexing: select the last element (negative indexes start from the end)\n",
    "mystring[-1]"
   ]
  },
  {
   "cell_type": "code",
   "execution_count": 4,
   "metadata": {},
   "outputs": [
    {
     "data": {
      "text/plain": [
       "'a string'"
      ]
     },
     "execution_count": 4,
     "metadata": {},
     "output_type": "execute_result"
    }
   ],
   "source": [
    "## indexing: select a range of elements with a slice (e.g., first:last)\n",
    "mystring[0:8]"
   ]
  },
  {
   "cell_type": "code",
   "execution_count": 5,
   "metadata": {},
   "outputs": [
    {
     "data": {
      "text/plain": [
       "'a string'"
      ]
     },
     "execution_count": 5,
     "metadata": {},
     "output_type": "execute_result"
    }
   ],
   "source": [
    "## indexing: the above could also be written as [:8] meaning from start to index 8\n",
    "mystring[:8]"
   ]
  },
  {
   "cell_type": "code",
   "execution_count": 6,
   "metadata": {},
   "outputs": [
    {
     "data": {
      "text/plain": [
       "'ext'"
      ]
     },
     "execution_count": 6,
     "metadata": {},
     "output_type": "execute_result"
    }
   ],
   "source": [
    "## indexing: this means index -3 until the end.\n",
    "mystring[-3:]"
   ]
  },
  {
   "cell_type": "markdown",
   "metadata": {},
   "source": [
    "### Strings can be combined or reassigned\n"
   ]
  },
  {
   "cell_type": "code",
   "execution_count": 7,
   "metadata": {},
   "outputs": [],
   "source": [
    "## create new string objects and assign to variables\n",
    "string1 = \"a new string \"\n",
    "string2 = \"bigger than the last string\"\n"
   ]
  },
  {
   "cell_type": "code",
   "execution_count": 8,
   "metadata": {},
   "outputs": [
    {
     "data": {
      "text/plain": [
       "'a new string bigger than the last string'"
      ]
     },
     "execution_count": 8,
     "metadata": {},
     "output_type": "execute_result"
    }
   ],
   "source": [
    "## combine them and assign the result to another variable\n",
    "newstring = string1 + string2\n",
    "newstring"
   ]
  },
  {
   "cell_type": "markdown",
   "metadata": {},
   "source": [
    "### You cannot mutate string objects\n",
    "Attempts to assign a value to an index or slice of a string will raise an error because strings are *immutable*. We can take an index or slice of a string to return part of it, but cannot change it *in place*. Instead, we can replace the variable storing a string object with a new string. "
   ]
  },
  {
   "cell_type": "code",
   "execution_count": 9,
   "metadata": {},
   "outputs": [
    {
     "ename": "TypeError",
     "evalue": "'str' object does not support item assignment",
     "output_type": "error",
     "traceback": [
      "\u001b[0;31m---------------------------------------------------------------------------\u001b[0m",
      "\u001b[0;31mTypeError\u001b[0m                                 Traceback (most recent call last)",
      "\u001b[0;32m<ipython-input-9-6a6002546e38>\u001b[0m in \u001b[0;36m<module>\u001b[0;34m()\u001b[0m\n\u001b[1;32m      1\u001b[0m \u001b[0;31m## error: you cannot assign to an index inside a string.\u001b[0m\u001b[0;34m\u001b[0m\u001b[0;34m\u001b[0m\u001b[0m\n\u001b[0;32m----> 2\u001b[0;31m \u001b[0mmystring\u001b[0m\u001b[0;34m[\u001b[0m\u001b[0;36m0\u001b[0m\u001b[0;34m]\u001b[0m \u001b[0;34m=\u001b[0m \u001b[0;34m\"A\"\u001b[0m\u001b[0;34m\u001b[0m\u001b[0m\n\u001b[0m",
      "\u001b[0;31mTypeError\u001b[0m: 'str' object does not support item assignment"
     ]
    }
   ],
   "source": [
    "## error: you cannot assign to an index inside a string.\n",
    "mystring[0] = \"A\""
   ]
  },
  {
   "cell_type": "markdown",
   "metadata": {},
   "source": [
    "### How do you modify strings then?\n",
    "You assign a new string to the same named variable. This can be done using indexing or concatenation, or several other ways as well as we'll see. This may seem a little nuanced, but you'll see later how this varies among different objects, some of which are mutable and others which are not. The example below creates a new string by adding \"A\" to the previous string indexed from 1 until the end."
   ]
  },
  {
   "cell_type": "code",
   "execution_count": 10,
   "metadata": {},
   "outputs": [
    {
     "data": {
      "text/plain": [
       "'A string of text'"
      ]
     },
     "execution_count": 10,
     "metadata": {},
     "output_type": "execute_result"
    }
   ],
   "source": [
    "## you could do this instead\n",
    "newstring = \"A\" + mystring[1:]\n",
    "newstring"
   ]
  },
  {
   "cell_type": "markdown",
   "metadata": {},
   "source": [
    "## Built-in string functions\n",
    "String variables are a type of data object in Python, and just like all objects in Python this means that they store more information than just the value that we assigned to it. For example, string objects store the length of the string that is stored, and they have many `functions` that can be called to manipulate that string. These `'attributes'` and `'functions'` can be accessed by using tab-completion on an object in jupyter. After the period at the end of `mystring` below hit tab to see the options displayed. "
   ]
  },
  {
   "cell_type": "code",
   "execution_count": null,
   "metadata": {},
   "outputs": [],
   "source": [
    "## put your cursor after the period below and press <tab> to see available options\n",
    "mystring."
   ]
  },
  {
   "cell_type": "markdown",
   "metadata": {},
   "source": [
    "### Example builtins\n",
    "The examples below call `functions` associated with string objects."
   ]
  },
  {
   "cell_type": "code",
   "execution_count": 11,
   "metadata": {},
   "outputs": [
    {
     "data": {
      "text/plain": [
       "'A string of text'"
      ]
     },
     "execution_count": 11,
     "metadata": {},
     "output_type": "execute_result"
    }
   ],
   "source": [
    "## this returns a capitalized version of the string\n",
    "mystring.capitalize()"
   ]
  },
  {
   "cell_type": "code",
   "execution_count": 12,
   "metadata": {},
   "outputs": [
    {
     "data": {
      "text/plain": [
       "['a', 'string', 'of', 'text']"
      ]
     },
     "execution_count": 12,
     "metadata": {},
     "output_type": "execute_result"
    }
   ],
   "source": [
    "## this splits the string into a 'list' where ever there is whitespace\n",
    "mystring.split()"
   ]
  },
  {
   "cell_type": "code",
   "execution_count": 13,
   "metadata": {},
   "outputs": [
    {
     "data": {
      "text/plain": [
       "'            a string of text            '"
      ]
     },
     "execution_count": 13,
     "metadata": {},
     "output_type": "execute_result"
    }
   ],
   "source": [
    "## this centers the text across a width of 40\n",
    "mystring.center(40)"
   ]
  },
  {
   "cell_type": "code",
   "execution_count": 14,
   "metadata": {},
   "outputs": [
    {
     "data": {
      "text/plain": [
       "9"
      ]
     },
     "execution_count": 14,
     "metadata": {},
     "output_type": "execute_result"
    }
   ],
   "source": [
    "## this prints the index of the searched word starting from the left\n",
    "mystring.find(\"of\")"
   ]
  },
  {
   "cell_type": "markdown",
   "metadata": {},
   "source": [
    "### Modifying strings\n",
    "In the examples above we applied a function to `mystring` which returned a new string object, but then we didn't store that result to a variable. Instead, we just let it be returned and printed to the cell (technically, this is called being returned to `stdout`). Because the returned value wasn't saved it was \"garbage-collected\" by Python, meaning that it's space in memory was erased. If we want to store the result we need to assign it to a variable. This is done below, where you see `mystring` is changed after we run the command."
   ]
  },
  {
   "cell_type": "code",
   "execution_count": 15,
   "metadata": {},
   "outputs": [
    {
     "data": {
      "text/plain": [
       "'A string of text'"
      ]
     },
     "execution_count": 15,
     "metadata": {},
     "output_type": "execute_result"
    }
   ],
   "source": [
    "## here mystring is replaced by a new string where the first character is capitalized.\n",
    "mystring = mystring.capitalize()\n",
    "mystring"
   ]
  },
  {
   "cell_type": "code",
   "execution_count": 16,
   "metadata": {},
   "outputs": [
    {
     "data": {
      "text/plain": [
       "'a string of text'"
      ]
     },
     "execution_count": 16,
     "metadata": {},
     "output_type": "execute_result"
    }
   ],
   "source": [
    "## let's create a new variable like the original that is not capitalized\n",
    "lower_string = mystring.lower()\n",
    "lower_string"
   ]
  },
  {
   "cell_type": "markdown",
   "metadata": {},
   "source": [
    "### The `print()` function\n",
    "You can return the value of a variable by executing the variable itself, or by using the print statements, like below. You can see that the first example shows the quotes around the text to indicate it is a string. The second way prints just the text. "
   ]
  },
  {
   "cell_type": "code",
   "execution_count": 17,
   "metadata": {},
   "outputs": [
    {
     "data": {
      "text/plain": [
       "'A string of text'"
      ]
     },
     "execution_count": 17,
     "metadata": {},
     "output_type": "execute_result"
    }
   ],
   "source": [
    "## you return a variable's value by entering just the variable\n",
    "mystring"
   ]
  },
  {
   "cell_type": "code",
   "execution_count": 18,
   "metadata": {},
   "outputs": [
    {
     "name": "stdout",
     "output_type": "stream",
     "text": [
      "A string of text\n"
     ]
    }
   ],
   "source": [
    "## or you can use the print() function, which prints it to stdout\n",
    "print(mystring)"
   ]
  },
  {
   "cell_type": "code",
   "execution_count": 20,
   "metadata": {},
   "outputs": [
    {
     "name": "stdout",
     "output_type": "stream",
     "text": [
      "A string of text a string of text\n"
     ]
    }
   ],
   "source": [
    "## In Python3 but not Py2 print of multiple strings is concatenated\n",
    "print(mystring, lower_string)"
   ]
  },
  {
   "cell_type": "markdown",
   "metadata": {},
   "source": [
    "### Single, double, and triple quotes\n",
    "What is the difference. There is little difference, but by providing redundancy \n",
    "it is easier to find ways to write strings that include quotes inside them, as shown\n",
    "in the examples below. "
   ]
  },
  {
   "cell_type": "code",
   "execution_count": 21,
   "metadata": {},
   "outputs": [
    {
     "name": "stdout",
     "output_type": "stream",
     "text": [
      "hello world\n",
      "printing in single quotes is the same as in double quotes\n",
      "'you can make strings that include single quotes by putting them inside doubles'\n",
      "\"you can make strings that include double quotes by putting them inside singles\"\n",
      "\n",
      "multi-line string with mixed single and double\n",
      "quotes can all be captured inside triple-quotes.\n",
      "This also interprets the starting line as a newline.\n",
      "\n"
     ]
    }
   ],
   "source": [
    "## examples of printing strings\n",
    "print(\"hello world\")\n",
    "print('printing in single quotes is the same as in double quotes')\n",
    "print(\"'you can make strings that include single quotes by putting them inside doubles'\")\n",
    "print('\"you can make strings that include double quotes by putting them inside singles\"')\n",
    "print(\"\"\"\n",
    "multi-line string with mixed single and double\n",
    "quotes can all be captured inside triple-quotes.\n",
    "This also interprets the starting line as a newline.\n",
    "\"\"\")"
   ]
  },
  {
   "cell_type": "markdown",
   "metadata": {},
   "source": [
    "### Parsing a string document\n",
    "In many cases an entire data set, or document page, will be stored as a string, and so it is really useful to know some common workflows for parsing strings of text into other usable forms. \n",
    "\n"
   ]
  },
  {
   "cell_type": "code",
   "execution_count": 22,
   "metadata": {},
   "outputs": [],
   "source": [
    "## a string that is like a full page document\n",
    "page = \"\"\"\n",
    "This is a multi-line document.\n",
    "This is the second line.\n",
    "The last line is here.\n",
    "\"\"\""
   ]
  },
  {
   "cell_type": "code",
   "execution_count": 23,
   "metadata": {},
   "outputs": [
    {
     "data": {
      "text/plain": [
       "'\\nThis is a multi-line document.\\nThis is the second line.\\nThe last line is here.\\n'"
      ]
     },
     "execution_count": 23,
     "metadata": {},
     "output_type": "execute_result"
    }
   ],
   "source": [
    "## the string variable looks like this. Newlines are represented as '\\n'\n",
    "page"
   ]
  },
  {
   "cell_type": "code",
   "execution_count": 24,
   "metadata": {},
   "outputs": [
    {
     "data": {
      "text/plain": [
       "'This is a multi-line document.\\nThis is the second line.\\nThe last line is here.'"
      ]
     },
     "execution_count": 24,
     "metadata": {},
     "output_type": "execute_result"
    }
   ],
   "source": [
    "## strip() removes the newline characters at the beginning and end\n",
    "page.strip()"
   ]
  },
  {
   "cell_type": "code",
   "execution_count": 25,
   "metadata": {},
   "outputs": [
    {
     "data": {
      "text/plain": [
       "['This is a multi-line document.',\n",
       " 'This is the second line.',\n",
       " 'The last line is here.']"
      ]
     },
     "execution_count": 25,
     "metadata": {},
     "output_type": "execute_result"
    }
   ],
   "source": [
    "## split can take an argument to split on a specific character .\n",
    "## Here we enter '\\n' to split on new lines. \n",
    "## This parses the string into a 'list' object of lines. \n",
    "## We'll discuss lists more later. \n",
    "page.strip().split('\\n')"
   ]
  },
  {
   "cell_type": "markdown",
   "metadata": {},
   "source": [
    "### Comments (#)\n",
    "Written code often contains comment strings or lines. These are not typically meant\n",
    "to not be interpreted by the program, but instead to provide hints to the person reading\n",
    "the code. You've seen this already in the lecture notes and example code we have examined, \n",
    "including in most cells of this notebook. You can see that the jupyter notebook interpreter\n",
    "colors comments as a lighter blue-grey color. In the examples below you can see that the comments are not interpreted when written in-line either. "
   ]
  },
  {
   "cell_type": "code",
   "execution_count": 26,
   "metadata": {},
   "outputs": [
    {
     "data": {
      "text/plain": [
       "True"
      ]
     },
     "execution_count": 26,
     "metadata": {},
     "output_type": "execute_result"
    }
   ],
   "source": [
    "newstring = \"a new string\"            ## creating a new string variable\n",
    "newstring = newstring.capitalize()    ## return capiltalized version\n",
    "newstring.startswith(\"A\")             ## ask whether it starts with an \"A\""
   ]
  },
  {
   "cell_type": "markdown",
   "metadata": {},
   "source": [
    "### Using print() for debugging"
   ]
  },
  {
   "cell_type": "markdown",
   "metadata": {},
   "source": [
    "A common use for the `print()` function when writing code is to use it for *debugging*. Essentially, this is a way of asking \"what is happening in the code right now?\". It is a good way to ensure that the code is running how you want it to, or to find the bugs in your code if they exist. We'll use `print` in this way below while discussing `for-loops`. "
   ]
  },
  {
   "cell_type": "markdown",
   "metadata": {},
   "source": [
    "### Strings are iterable\n",
    "Strings, like many other Python data objects, are *iterable*, which means that we can sample sequential elements from them. The elements in a string are bytes (i.e., characters). We can write a for-loop like below to iterate over the elements in the string object. "
   ]
  },
  {
   "cell_type": "code",
   "execution_count": 27,
   "metadata": {},
   "outputs": [
    {
     "name": "stdout",
     "output_type": "stream",
     "text": [
      "a\n",
      "p\n",
      "p\n",
      "l\n",
      "e\n",
      "s\n",
      " \n",
      "o\n",
      "r\n",
      "a\n",
      "n\n",
      "g\n",
      "e\n",
      " \n",
      "g\n",
      "r\n",
      "a\n",
      "p\n",
      "e\n",
      "s\n"
     ]
    }
   ],
   "source": [
    "## define a string variable\n",
    "stringvar = \"apples orange grapes\"\n",
    "\n",
    "## a for-loop iterating over elements in stringvar\n",
    "for x in stringvar:\n",
    "    print(x)"
   ]
  },
  {
   "cell_type": "markdown",
   "metadata": {},
   "source": [
    "### More on for-loops\n",
    "In lecture we discussed operators for things like addition, subtraction, and for performing comparisons, such as `=`, `>`, and `<`. Below we combine these in a for-loop to perform a more complex operation. Following the format we used above to write a for-loop, it's important to recognize that the variable in the loop is being reassigned on every iteration. In this loop we name the variable `char`, and if `char` is a "
   ]
  },
  {
   "cell_type": "code",
   "execution_count": 28,
   "metadata": {},
   "outputs": [
    {
     "name": "stdout",
     "output_type": "stream",
     "text": [
      "a\n",
      "e\n",
      "o\n",
      "a\n",
      "e\n",
      "a\n",
      "e\n"
     ]
    }
   ],
   "source": [
    "## find vowels in stringvar\n",
    "for char in stringvar:\n",
    "    for vowel in \"aeiou\":\n",
    "        if char == vowel:\n",
    "            print(char)"
   ]
  },
  {
   "cell_type": "markdown",
   "metadata": {},
   "source": [
    "### A simpler way to do the same thing"
   ]
  },
  {
   "cell_type": "code",
   "execution_count": 29,
   "metadata": {},
   "outputs": [
    {
     "name": "stdout",
     "output_type": "stream",
     "text": [
      "a\n",
      "e\n",
      "o\n",
      "a\n",
      "e\n",
      "a\n",
      "e\n"
     ]
    }
   ],
   "source": [
    "## find vowels in stringvar\n",
    "for char in stringvar:\n",
    "    if char in \"aeiou\":\n",
    "        print(char)"
   ]
  },
  {
   "cell_type": "markdown",
   "metadata": {},
   "source": [
    "# Challenges"
   ]
  },
  {
   "cell_type": "markdown",
   "metadata": {},
   "source": [
    "A. Create a variable named 'varstring' and assign it the value \"apples\"\n"
   ]
  },
  {
   "cell_type": "code",
   "execution_count": null,
   "metadata": {},
   "outputs": [],
   "source": []
  },
  {
   "cell_type": "markdown",
   "metadata": {},
   "source": [
    "B. Use indexing to create a new variable of only the first two fruits\n"
   ]
  },
  {
   "cell_type": "code",
   "execution_count": null,
   "metadata": {},
   "outputs": [],
   "source": []
  },
  {
   "cell_type": "markdown",
   "metadata": {},
   "source": [
    "C. Use indexing to create a new variable of only the last two fruits\n"
   ]
  },
  {
   "cell_type": "code",
   "execution_count": null,
   "metadata": {},
   "outputs": [],
   "source": []
  },
  {
   "cell_type": "markdown",
   "metadata": {},
   "source": [
    "D. Split the string on whitespace to create a list\n"
   ]
  },
  {
   "cell_type": "code",
   "execution_count": null,
   "metadata": {},
   "outputs": [],
   "source": []
  },
  {
   "cell_type": "markdown",
   "metadata": {},
   "source": [
    "E. Iterate over varstring and print every element that is not a vowel\n"
   ]
  },
  {
   "cell_type": "code",
   "execution_count": null,
   "metadata": {},
   "outputs": [],
   "source": []
  },
  {
   "cell_type": "markdown",
   "metadata": {},
   "source": [
    "F. Create a variable that is assigned the following string and print it: `They asked, \"what's your name?\"`"
   ]
  },
  {
   "cell_type": "code",
   "execution_count": null,
   "metadata": {},
   "outputs": [],
   "source": []
  },
  {
   "cell_type": "markdown",
   "metadata": {},
   "source": [
    "G. Count the number of differences between these two DNA strings\n"
   ]
  },
  {
   "cell_type": "code",
   "execution_count": null,
   "metadata": {},
   "outputs": [],
   "source": [
    "dna1 = \"ACAGAGTTGCCAGGAGATGACAGAAAGGTGTGGGTTACAACTCTCTCTAATTTAAGGGCCAATTAACATT\"\n",
    "dna2 = \"ACAGAGTCGCCAGGAGATGACAGAAAGGTCTGGGTTACAACTCTCTCTAAAATAAGGGCCAATTAACGTT\"\n"
   ]
  },
  {
   "cell_type": "code",
   "execution_count": null,
   "metadata": {},
   "outputs": [],
   "source": []
  }
 ],
 "metadata": {
  "kernelspec": {
   "display_name": "Python 3",
   "language": "python",
   "name": "python3"
  },
  "language_info": {
   "codemirror_mode": {
    "name": "ipython",
    "version": 3
   },
   "file_extension": ".py",
   "mimetype": "text/x-python",
   "name": "python",
   "nbconvert_exporter": "python",
   "pygments_lexer": "ipython3",
   "version": "3.5.4"
  }
 },
 "nbformat": 4,
 "nbformat_minor": 2
}
