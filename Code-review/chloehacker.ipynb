{
 "cells": [
  {
   "cell_type": "markdown",
   "metadata": {},
   "source": [
    "## Code review for apf2139\n",
    "\n"
   ]
  },
  {
   "cell_type": "markdown",
   "metadata": {},
   "source": [
    "This is my code review for apf2139.\n",
    "## starting with notebook 3.3."
   ]
  },
  {
   "cell_type": "code",
   "execution_count": 4,
   "metadata": {
    "collapsed": true
   },
   "outputs": [],
   "source": [
    "import os\n",
    "import gzip\n",
    "import requests\n",
    "## Download the iris data set and write it to a file\n",
    "url1 = \"http://eaton-lab.org/data/40578.fastq.gz\"\n",
    "url2 = \"http://eaton-lab.org/data/iris-data-dirty.csv\"\n"
   ]
  },
  {
   "cell_type": "code",
   "execution_count": 5,
   "metadata": {},
   "outputs": [
    {
     "data": {
      "text/plain": [
       "<Response [200]>"
      ]
     },
     "execution_count": 5,
     "metadata": {},
     "output_type": "execute_result"
    }
   ],
   "source": [
    "response1 = requests.get(url1)\n",
    "response1"
   ]
  },
  {
   "cell_type": "code",
   "execution_count": 6,
   "metadata": {},
   "outputs": [
    {
     "data": {
      "text/plain": [
       "<Response [200]>"
      ]
     },
     "execution_count": 6,
     "metadata": {},
     "output_type": "execute_result"
    }
   ],
   "source": [
    "response2 = requests.get(url2)\n",
    "response2"
   ]
  },
  {
   "cell_type": "code",
   "execution_count": null,
   "metadata": {
    "collapsed": true
   },
   "outputs": [],
   "source": [
    "iris = open(\"./iris-data-dirty.csv\", 'w')\n",
    "ffile.write(requests.get(url2).text)\n",
    "ffile.close()"
   ]
  },
  {
   "cell_type": "code",
   "execution_count": 11,
   "metadata": {},
   "outputs": [
    {
     "data": {
      "text/plain": [
       "''"
      ]
     },
     "execution_count": 11,
     "metadata": {},
     "output_type": "execute_result"
    }
   ],
   "source": [
    "## read in the iris data set from its filepath and store the data as a string\n",
    "irisfile = os.path.abspath(\"./iris-data-dirty.csv\")\n",
    "\n",
    "with open(irisfile, 'r') as infile:\n",
    "    data = infile.read()\n",
    "    \n",
    "data[:50]"
   ]
  },
  {
   "cell_type": "code",
   "execution_count": 12,
   "metadata": {
    "collapsed": true
   },
   "outputs": [],
   "source": [
    "## replace \"setsa\" with \"setosa\" and \"colour\" with \"color\" in the string data\n",
    "clean = data.replace('setsa', 'setosa')   #create new string clean with clean setosa\n",
    "clean = clean.replace('colour', 'color')  #write color fix to this same new object clean"
   ]
  },
  {
   "cell_type": "code",
   "execution_count": null,
   "metadata": {
    "collapsed": true
   },
   "outputs": [],
   "source": [
    "## split the string to convert it into a list of lines from the file\n",
    "nice = clean.strip().split('\\n')\n",
    "nice[:10]"
   ]
  },
  {
   "cell_type": "code",
   "execution_count": null,
   "metadata": {
    "collapsed": true
   },
   "outputs": [],
   "source": [
    "## remove any lines that are empty or have \"NA\" in them.\n",
    "vnice = [i for i in nice if 'NA' not in i] #remove NAs... probably better ways to do this\n",
    "vnice = list(filter(None, vnice)) #removing empty lines using filter"
   ]
  },
  {
   "cell_type": "markdown",
   "metadata": {},
   "source": [
    "All of the code looks good and efficient, for the \"NA\" removal my strategy was to loop through removing lines if they contained \"NA\". This looks good too."
   ]
  },
  {
   "cell_type": "code",
   "execution_count": null,
   "metadata": {
    "collapsed": true
   },
   "outputs": [],
   "source": [
    "\n",
    "## concatenate the list back into a string with newline characters between lines\n",
    "cleanstring = '\\n'.join(vnice) #using string.join(list) to concatenate list using string as separator for each entry\n",
    "cleanstring[:50]"
   ]
  },
  {
   "cell_type": "code",
   "execution_count": null,
   "metadata": {
    "collapsed": true
   },
   "outputs": [],
   "source": [
    "## write the string to a new file called \"iris-data-clean.csv\"\n",
    "ffile = open(\"./iris-data-clean.csv\", 'w')\n",
    "ffile.write(cleanstring)\n",
    "ffile.close()\n",
    "\n",
    "#any way to do this with fancy stuff? using \"with\"? idk..."
   ]
  },
  {
   "cell_type": "markdown",
   "metadata": {},
   "source": [
    "I did a similar thing for the code above, not sure of other approaches for it!"
   ]
  },
  {
   "cell_type": "markdown",
   "metadata": {},
   "source": [
    "## 3.4 notebook"
   ]
  },
  {
   "cell_type": "code",
   "execution_count": 16,
   "metadata": {
    "collapsed": true
   },
   "outputs": [],
   "source": [
    "import random\n",
    "def randseq(N):\n",
    "    \"return a random sequence of DNA bases of length N\"\n",
    "    pop = 'ATGC' #population to sample (or choose) from\n",
    "    try:\n",
    "        return ''.join(random.choice(pop) for i in range(N)) #random.choice is same as using random.sample with k = 1... i think\n",
    "#btw, what is being returned is essentially taking an empty string, using it as a \"separator\"\n",
    "#for N instances of the randomly chosen base.\n",
    "    except TypeError as e:\n",
    "        print('There was an error{}'.format(e))"
   ]
  },
  {
   "cell_type": "code",
   "execution_count": 18,
   "metadata": {},
   "outputs": [
    {
     "data": {
      "text/plain": [
       "'GCTGTCGCATTGTGAAACCC'"
      ]
     },
     "execution_count": 18,
     "metadata": {},
     "output_type": "execute_result"
    }
   ],
   "source": [
    "randseq(20)\n",
    "randseq('twenty') #string input = fail"
   ]
  },
  {
   "cell_type": "markdown",
   "metadata": {},
   "source": [
    "The code above all worked well. The input as randseq(20) worked but not when it was typed out as a string."
   ]
  },
  {
   "cell_type": "code",
   "execution_count": 19,
   "metadata": {},
   "outputs": [
    {
     "data": {
      "text/plain": [
       "{'A': 1, 'C': 0, 'G': 2, 'T': 2}"
      ]
     },
     "execution_count": 19,
     "metadata": {},
     "output_type": "execute_result"
    }
   ],
   "source": [
    "import random\n",
    "def basecount(seq):\n",
    "    \"calculates and returns the frequency of As, Cs, Gs and Ts in a given sequence seq\"\n",
    "    A = 0            #start count at 0\n",
    "    for i in seq:    #for each character in input sequence...\n",
    "        if i == 'A': #if character is an A\n",
    "            A += 1   #add one to count of As            \n",
    "                     \n",
    "    T = 0\n",
    "    for i in seq:\n",
    "        if i == 'T':\n",
    "            T += 1\n",
    "            \n",
    "    G = 0\n",
    "    for i in seq:\n",
    "        if i == 'G':\n",
    "            G += 1 \n",
    "            \n",
    "    C = 0\n",
    "    for i in seq:\n",
    "        if i == 'C':\n",
    "            C += 1      #rinse and repeat for each base. I wonder if there is a more compact way to do this tho...?\n",
    "    \n",
    "    return {'A': A, 'T': T, 'G': G, 'C': C} #returns alphabetically...? fine i guess\n",
    "\n",
    "seq = randseq(5)\n",
    "seq\n",
    "basecount(seq)"
   ]
  },
  {
   "cell_type": "markdown",
   "metadata": {},
   "source": [
    "The code above all worked well, the only thing to make it more concise would be to just have one \"for loop\" and then put all of the \"if\" statements within that loop! But still would give the same answer."
   ]
  },
  {
   "cell_type": "code",
   "execution_count": 20,
   "metadata": {
    "collapsed": true
   },
   "outputs": [],
   "source": [
    "def catseq(seq1, seq2):\n",
    "    \"concatenates two sequences seq 1 and seq2, attaching the  5' head of seq2 to the 3' tail of seq1.\"\n",
    "    seqs = [seq1, seq2]  #makes a list including both seq strings\n",
    "    return ''.join(seqs) #uses an empty string as a \"separator\" to join each of the list elements into a string"
   ]
  },
  {
   "cell_type": "code",
   "execution_count": 21,
   "metadata": {},
   "outputs": [
    {
     "data": {
      "text/plain": [
       "'CGAAC'"
      ]
     },
     "execution_count": 21,
     "metadata": {},
     "output_type": "execute_result"
    }
   ],
   "source": [
    "seq1 = randseq(5)\n",
    "seq1"
   ]
  },
  {
   "cell_type": "code",
   "execution_count": 22,
   "metadata": {},
   "outputs": [
    {
     "data": {
      "text/plain": [
       "'CTGAC'"
      ]
     },
     "execution_count": 22,
     "metadata": {},
     "output_type": "execute_result"
    }
   ],
   "source": [
    "seq2 = randseq(5)\n",
    "seq2"
   ]
  },
  {
   "cell_type": "code",
   "execution_count": 23,
   "metadata": {},
   "outputs": [
    {
     "data": {
      "text/plain": [
       "'CGAACCTGAC'"
      ]
     },
     "execution_count": 23,
     "metadata": {},
     "output_type": "execute_result"
    }
   ],
   "source": [
    "catseq(seq1,seq2)"
   ]
  },
  {
   "cell_type": "markdown",
   "metadata": {},
   "source": [
    "This code all worked well."
   ]
  },
  {
   "cell_type": "code",
   "execution_count": 24,
   "metadata": {
    "collapsed": true
   },
   "outputs": [],
   "source": [
    "def trimseq(seq1,seq2):\n",
    "    \"\"\"\n",
    "    takes sequences of two different lengths and returns both trimed from the end to same length.\n",
    "    function is robust to sequence order (ie larger one can be either sequence 1 or sequence 2).\n",
    "    \"\"\"\n",
    "    if len(seq1) > len(seq2):                            #if seq 1 is longer than seq 2\n",
    "            newseq1 = seq1[:len(seq2)]                   #slice seq1 up to the length of seq2\n",
    "            return {\"trimmedseq1\":newseq1, \"seq2\":seq2}  #and return the sliced seq1 and the untouched seq2.\n",
    "        \n",
    "    if len(seq2) > len(seq1):                            #vice versa if seq 2 is longer than seq1.\n",
    "            newseq2 = seq2[:len(seq1)]\n",
    "            return {\"trimmedseq2\":newseq2, \"seq1\":seq1}"
   ]
  },
  {
   "cell_type": "code",
   "execution_count": 25,
   "metadata": {},
   "outputs": [
    {
     "data": {
      "text/plain": [
       "{'seq1': 'TAATC', 'trimmedseq2': 'AACCT'}"
      ]
     },
     "execution_count": 25,
     "metadata": {},
     "output_type": "execute_result"
    }
   ],
   "source": [
    "seq1 = randseq(5); seq2 = randseq(6) #seq 2 bigger\n",
    "trimseq(seq1,seq2)"
   ]
  },
  {
   "cell_type": "markdown",
   "metadata": {},
   "source": [
    "This code worked well."
   ]
  },
  {
   "cell_type": "code",
   "execution_count": 26,
   "metadata": {},
   "outputs": [
    {
     "data": {
      "text/plain": [
       "{'proportion': 1, 'proportionboth': 0}"
      ]
     },
     "execution_count": 26,
     "metadata": {},
     "output_type": "execute_result"
    }
   ],
   "source": [
    "def alignprop(seq1, seq2):\n",
    "    \"This function... uh... takes the proportion of bases across the shared length between two sequences that are the same...?\"\n",
    "    l = list(trimseq(seq1,seq2).values()) #take trimmed/equal length sequences\n",
    "    count = 0 #start counting stuff\n",
    "    for i in l[0]: #for each character in sequence 1\n",
    "        if i in l[1]: #if the character is found in sequence 2\n",
    "            count +=1 #add one\n",
    "    prop = count / len(l[0]) #then divide the total counts by the total number of characters in each sequence?\n",
    "    prop2 = count / len(catseq(l[0], l[1])) #divide by total number of bases in both sequences? (ie divide by len(concatenated string))\n",
    "    \n",
    "    return {\"proportion\":prop, \"proportionboth\":prop2}\n",
    "\n",
    "seq1 = randseq(20); seq2 = randseq(22)\n",
    "\n",
    "alignprop(seq1,seq2)"
   ]
  },
  {
   "cell_type": "code",
   "execution_count": 27,
   "metadata": {},
   "outputs": [
    {
     "ename": "NameError",
     "evalue": "global name 'newl' is not defined",
     "output_type": "error",
     "traceback": [
      "\u001b[0;31m---------------------------------------------------------------------------\u001b[0m",
      "\u001b[0;31mNameError\u001b[0m                                 Traceback (most recent call last)",
      "\u001b[0;32m<ipython-input-27-550a9de2d171>\u001b[0m in \u001b[0;36m<module>\u001b[0;34m()\u001b[0m\n\u001b[1;32m      8\u001b[0m     \u001b[0;32mreturn\u001b[0m \u001b[0mprop\u001b[0m\u001b[0;34m\u001b[0m\u001b[0m\n\u001b[1;32m      9\u001b[0m \u001b[0;34m\u001b[0m\u001b[0m\n\u001b[0;32m---> 10\u001b[0;31m \u001b[0malignprop2\u001b[0m\u001b[0;34m(\u001b[0m\u001b[0mseq1\u001b[0m\u001b[0;34m,\u001b[0m\u001b[0mseq2\u001b[0m\u001b[0;34m)\u001b[0m\u001b[0;34m\u001b[0m\u001b[0m\n\u001b[0m",
      "\u001b[0;32m<ipython-input-27-550a9de2d171>\u001b[0m in \u001b[0;36malignprop2\u001b[0;34m(seq1, seq2)\u001b[0m\n\u001b[1;32m      2\u001b[0m     \u001b[0;34m\"This function takes the proportion of base counts between two sequences of equal length\"\u001b[0m\u001b[0;34m\u001b[0m\u001b[0m\n\u001b[1;32m      3\u001b[0m     \u001b[0ml\u001b[0m \u001b[0;34m=\u001b[0m \u001b[0;34m[\u001b[0m\u001b[0mbasecount\u001b[0m\u001b[0;34m(\u001b[0m\u001b[0mi\u001b[0m\u001b[0;34m)\u001b[0m\u001b[0;34m.\u001b[0m\u001b[0mvalues\u001b[0m\u001b[0;34m(\u001b[0m\u001b[0;34m)\u001b[0m \u001b[0;32mfor\u001b[0m \u001b[0mi\u001b[0m \u001b[0;32min\u001b[0m \u001b[0mlist\u001b[0m\u001b[0;34m(\u001b[0m\u001b[0mtrimseq\u001b[0m\u001b[0;34m(\u001b[0m\u001b[0mseq1\u001b[0m\u001b[0;34m,\u001b[0m\u001b[0mseq2\u001b[0m\u001b[0;34m)\u001b[0m\u001b[0;34m.\u001b[0m\u001b[0mvalues\u001b[0m\u001b[0;34m(\u001b[0m\u001b[0;34m)\u001b[0m\u001b[0;34m)\u001b[0m\u001b[0;34m]\u001b[0m \u001b[0;31m#take basecounts of equal length sequences\u001b[0m\u001b[0;34m\u001b[0m\u001b[0m\n\u001b[0;32m----> 4\u001b[0;31m     \u001b[0mnewl\u001b[0m\u001b[0;34m[\u001b[0m\u001b[0;36m0\u001b[0m\u001b[0;34m]\u001b[0m \u001b[0;34m=\u001b[0m \u001b[0;34m[\u001b[0m\u001b[0mi\u001b[0m\u001b[0;34m+\u001b[0m\u001b[0;36m1\u001b[0m \u001b[0;32mfor\u001b[0m \u001b[0mi\u001b[0m \u001b[0;32min\u001b[0m \u001b[0ml\u001b[0m\u001b[0;34m[\u001b[0m\u001b[0;36m0\u001b[0m\u001b[0;34m]\u001b[0m\u001b[0;34m]\u001b[0m \u001b[0;31m#add \"pseudocount\" to prevent divison by 0\u001b[0m\u001b[0;34m\u001b[0m\u001b[0m\n\u001b[0m\u001b[1;32m      5\u001b[0m     \u001b[0mnewl\u001b[0m\u001b[0;34m[\u001b[0m\u001b[0;36m1\u001b[0m\u001b[0;34m]\u001b[0m \u001b[0;34m=\u001b[0m \u001b[0;34m[\u001b[0m\u001b[0mi\u001b[0m\u001b[0;34m+\u001b[0m\u001b[0;36m1\u001b[0m \u001b[0;32mfor\u001b[0m \u001b[0mi\u001b[0m \u001b[0;32min\u001b[0m \u001b[0ml\u001b[0m\u001b[0;34m[\u001b[0m\u001b[0;36m1\u001b[0m\u001b[0;34m]\u001b[0m\u001b[0;34m]\u001b[0m\u001b[0;34m\u001b[0m\u001b[0m\n\u001b[1;32m      6\u001b[0m     \u001b[0mprop\u001b[0m \u001b[0;34m=\u001b[0m \u001b[0;34m[\u001b[0m\u001b[0mfloat\u001b[0m\u001b[0;34m(\u001b[0m\u001b[0mnewl\u001b[0m\u001b[0;34m[\u001b[0m\u001b[0;36m0\u001b[0m\u001b[0;34m]\u001b[0m\u001b[0;34m)\u001b[0m \u001b[0;34m/\u001b[0m \u001b[0mnewl\u001b[0m\u001b[0;34m[\u001b[0m\u001b[0;36m1\u001b[0m\u001b[0;34m]\u001b[0m \u001b[0;32mfor\u001b[0m \u001b[0mnewl\u001b[0m\u001b[0;34m[\u001b[0m\u001b[0;36m0\u001b[0m\u001b[0;34m]\u001b[0m\u001b[0;34m,\u001b[0m\u001b[0mnewl\u001b[0m\u001b[0;34m[\u001b[0m\u001b[0;36m1\u001b[0m\u001b[0;34m]\u001b[0m \u001b[0;32min\u001b[0m \u001b[0mzip\u001b[0m\u001b[0;34m(\u001b[0m\u001b[0mnewl\u001b[0m\u001b[0;34m[\u001b[0m\u001b[0;36m0\u001b[0m\u001b[0;34m]\u001b[0m\u001b[0;34m,\u001b[0m\u001b[0mnewl\u001b[0m\u001b[0;34m[\u001b[0m\u001b[0;36m1\u001b[0m\u001b[0;34m]\u001b[0m\u001b[0;34m)\u001b[0m\u001b[0;34m]\u001b[0m \u001b[0;31m#divide first list by second.\u001b[0m\u001b[0;34m\u001b[0m\u001b[0m\n",
      "\u001b[0;31mNameError\u001b[0m: global name 'newl' is not defined"
     ]
    }
   ],
   "source": [
    "def alignprop2(seq1, seq2): \n",
    "    \"This function takes the proportion of base counts between two sequences of equal length\"\n",
    "    l = [basecount(i).values() for i in list(trimseq(seq1,seq2).values())] #take basecounts of equal length sequences\n",
    "    newl[0] = [i+1 for i in l[0]] #add \"pseudocount\" to prevent divison by 0\n",
    "    newl[1] = [i+1 for i in l[1]]\n",
    "    prop = [float(newl[0]) / newl[1] for newl[0],newl[1] in zip(newl[0],newl[1])] #divide first list by second.\n",
    "    \n",
    "    return prop\n",
    "\n",
    "alignprop2(seq1,seq2)"
   ]
  },
  {
   "cell_type": "markdown",
   "metadata": {},
   "source": [
    "I was a little confused with this last chunk of code, I think that it is on the right track but I wasn't able to successfully run it. I think maybe there is something going on with the for loop in the first line of code under defining the function? But honestly not sure."
   ]
  },
  {
   "cell_type": "code",
   "execution_count": null,
   "metadata": {
    "collapsed": true
   },
   "outputs": [],
   "source": []
  }
 ],
 "metadata": {
  "kernelspec": {
   "display_name": "Python 2",
   "language": "python",
   "name": "python2"
  },
  "language_info": {
   "codemirror_mode": {
    "name": "ipython",
    "version": 2
   },
   "file_extension": ".py",
   "mimetype": "text/x-python",
   "name": "python",
   "nbconvert_exporter": "python",
   "pygments_lexer": "ipython2",
   "version": "2.7.14"
  }
 },
 "nbformat": 4,
 "nbformat_minor": 2
}
