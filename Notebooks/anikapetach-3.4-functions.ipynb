{
 "cells": [
  {
   "cell_type": "markdown",
   "metadata": {},
   "source": [
    "# Notebook 3.4: Getting started with functions"
   ]
  },
  {
   "cell_type": "markdown",
   "metadata": {},
   "source": [
    "The code in this notebook corresponds to notes in lecture 3. In this notebook you can follow along and execute or modify code as we go. All code in this notebook uses the `Python3` standard library. "
   ]
  },
  {
   "cell_type": "markdown",
   "metadata": {},
   "source": [
    "### What are functions?\n",
    "A function is used to perform a task based on a particular input. Functions are the bread and butter of any programming language. We have used many functions already that are builtin to the objects we have interacted with. For example, we saw that `string` objects have functions to capitalize letters, or add spacing, or query their length. Similarly, `list` objects have functions to search for elements in them, or to sort. The next step in our journey to begin writing our own functions. This is only an introduction, as we will continue over time to learn many new ways to write more and more advanced functions.  "
   ]
  },
  {
   "cell_type": "markdown",
   "metadata": {},
   "source": [
    "### The basic structure of a function\n",
    "In Python functions are defined using the keyword `def`. Optionally we can have the function return a result by ending it with the `return` operator. This is not required, but is usually desirable if we want to want to assign the result of the function to a variable "
   ]
  },
  {
   "cell_type": "code",
   "execution_count": 1,
   "metadata": {},
   "outputs": [],
   "source": [
    "## a simple function to add 100\n",
    "def myfunc(x):\n",
    "    return x + 100"
   ]
  },
  {
   "cell_type": "code",
   "execution_count": 2,
   "metadata": {},
   "outputs": [
    {
     "data": {
      "text/plain": [
       "300"
      ]
     },
     "execution_count": 2,
     "metadata": {},
     "output_type": "execute_result"
    }
   ],
   "source": [
    "## let's run our function on an integer\n",
    "myfunc(200)"
   ]
  },
  {
   "cell_type": "markdown",
   "metadata": {},
   "source": [
    "### More structure: doc string\n",
    "So the basic elements are to have an input variable and a return variable. The next important thing is to add some documentation to our function. This reminds us what the function is for, and also allows other users to see how the function works. "
   ]
  },
  {
   "cell_type": "code",
   "execution_count": 3,
   "metadata": {},
   "outputs": [],
   "source": [
    "def myfunc2(x):\n",
    "    \"This function adds 100 to an int or float and returns\"\n",
    "    return x + 100"
   ]
  },
  {
   "cell_type": "code",
   "execution_count": 4,
   "metadata": {},
   "outputs": [
    {
     "data": {
      "text/plain": [
       "400.3"
      ]
     },
     "execution_count": 4,
     "metadata": {},
     "output_type": "execute_result"
    }
   ],
   "source": [
    "myfunc2(300.3)"
   ]
  },
  {
   "cell_type": "markdown",
   "metadata": {},
   "source": [
    "There is not hard-set rule on how to write your documentation string, but there are suggested conventions. Below is one of them, which starts with a brief summary of what the function does, followed by a list of the input types, and finally a listing of the returned values. When writing short scripts for practice like we are now, however, the short description above is adequate, rather than writing a full length docstring like below. But in the future we will be writing full docs. "
   ]
  },
  {
   "cell_type": "code",
   "execution_count": 5,
   "metadata": {},
   "outputs": [],
   "source": [
    "def myfunc3():\n",
    "    \"\"\"\n",
    "    A function that adds 100 and returns\n",
    "    \n",
    "    Parameters:\n",
    "    -----------\n",
    "    x (int, float):\n",
    "        An integer or float input.\n",
    "        \n",
    "    Returns:\n",
    "    ---------\n",
    "    int\n",
    "    \"\"\"\n",
    "    return x + 100"
   ]
  },
  {
   "cell_type": "markdown",
   "metadata": {},
   "source": [
    "### More structure: handling exceptions\n",
    "The next step is to beef up our function a bit. Let's add some conditional statements to it to make sure that users don't misuse the function in a way that we did not intend. For example, this function tries to add an integer to the input, which is fine for an int or float input, but what is the input is some other type, we want our function to raise a warning. In fact, it will already do this do this by raising a Python TypeError. But let's catch the error first and warn the user.  "
   ]
  },
  {
   "cell_type": "markdown",
   "metadata": {},
   "source": [
    "There are two general concepts for catching errors in programming, called `EAFP` and `LBYL`. This stands for \"it's easier to ask forgiveness than permission\", and \"look before you leap\". The idea is, you can either write your program to first try to do something and only bother handling exceptions when you get caught with an error, or, alternatively you can write your code to check that everything is properly formatted and no errors will be raise before it tries to execute any code. In general, the `EAFP` (ask forgiveness after getting caught) method is preferable, but both are typically used frequently in any program. "
   ]
  },
  {
   "cell_type": "markdown",
   "metadata": {},
   "source": [
    "#### EAFP\n",
    "Easier to ask forgiveness is a bit faster because when the type is correct we do not waste time checking whether it is correct or not. We only bother if there is an exception raised by the code. We use a statement called a `try/except` statement. The indentation of the code is important in this part, if a TypeError is raised anywhere within the indented `try` section then it will be caught by the `except` clause. We capture and store the exception message into a variable `e` and print it for the user. "
   ]
  },
  {
   "cell_type": "code",
   "execution_count": 6,
   "metadata": {},
   "outputs": [],
   "source": [
    "def myfunc4(x):\n",
    "    \"return x + 100\"\n",
    "    try: \n",
    "        return x + 100\n",
    "    except TypeError as e:\n",
    "        print(\"There was an error: {}\".format(e))"
   ]
  },
  {
   "cell_type": "code",
   "execution_count": 7,
   "metadata": {},
   "outputs": [
    {
     "name": "stdout",
     "output_type": "stream",
     "text": [
      "There was an error: must be str, not int\n"
     ]
    }
   ],
   "source": [
    "myfunc4('a')"
   ]
  },
  {
   "cell_type": "markdown",
   "metadata": {},
   "source": [
    "#### LBYL\n",
    "Look before you leap checks the type of our input right away, which has the cost of performing one more operation than this EAFP example, but it also ensures for us that know the type of data, and so helps us to avoid errors a bit better. Here we use a conditional `if/else` statement to check the type of the input. "
   ]
  },
  {
   "cell_type": "code",
   "execution_count": 8,
   "metadata": {},
   "outputs": [],
   "source": [
    "def myfunc5(x):\n",
    "    \"return x + 100\"\n",
    "    if isinstance(x, (int, float)):\n",
    "        return x + 100\n",
    "    else:\n",
    "        return \"There was an error: x is not an int or float\"\n",
    "    "
   ]
  },
  {
   "cell_type": "code",
   "execution_count": 9,
   "metadata": {},
   "outputs": [
    {
     "data": {
      "text/plain": [
       "'There was an error: x is not an int or float'"
      ]
     },
     "execution_count": 9,
     "metadata": {},
     "output_type": "execute_result"
    }
   ],
   "source": [
    "myfunc5('a')"
   ]
  },
  {
   "cell_type": "markdown",
   "metadata": {},
   "source": [
    "## Multiple inputs \n",
    "Of course we often want to write functions that take multiple inputs. This is easy. "
   ]
  },
  {
   "cell_type": "code",
   "execution_count": 10,
   "metadata": {},
   "outputs": [],
   "source": [
    "def sumfunc1(arg1, arg2):\n",
    "    \"returns the sum of two input args\"\n",
    "    return arg1 + arg2"
   ]
  },
  {
   "cell_type": "code",
   "execution_count": 11,
   "metadata": {},
   "outputs": [
    {
     "data": {
      "text/plain": [
       "30"
      ]
     },
     "execution_count": 11,
     "metadata": {},
     "output_type": "execute_result"
    }
   ],
   "source": [
    "sumfunc1(10, 20)"
   ]
  },
  {
   "cell_type": "markdown",
   "metadata": {},
   "source": [
    "### Writing a useful function\n",
    "Let's write a function to perform the task that we ran in a previous challenge, which is to find the number of differences between two DNA strings. Write a function that will find the four differences between the DNA strings below. Then make your own strings and test it to make sure it works on any arbitrary input sequence. You can see now that our function is getting more complex it is usefult to add some comment lines to the code to make clear what we are doing. "
   ]
  },
  {
   "cell_type": "code",
   "execution_count": 19,
   "metadata": {},
   "outputs": [],
   "source": [
    "def seqdiff1(seq1, seq2): #Note this is seqdiff1 and not seqdiff as you see in the code later on\n",
    "    \"return the number of differences between two sequences\"\n",
    "    ## a counter to store the number of diffs\n",
    "    count = 0\n",
    "\n",
    "    ## iterate over the index of bases and add to count if diff\n",
    "    for idx in range(len(seq1)): # Here, slen was not defined\n",
    "        if seq1[idx] != seq2[idx]:\n",
    "            count += 1\n",
    "    return count"
   ]
  },
  {
   "cell_type": "code",
   "execution_count": 20,
   "metadata": {},
   "outputs": [
    {
     "data": {
      "text/plain": [
       "5"
      ]
     },
     "execution_count": 20,
     "metadata": {},
     "output_type": "execute_result"
    }
   ],
   "source": [
    "dna1 = \"ACAGAGTTGCCAGGAGATGACAGAAAGGTGTGGGTTACAACTCTCTCTAATTTAAGGGCCAATTAACATT\"\n",
    "dna2 = \"ACAGAGTCGCCAGGAGATGACAGAAAGGTCTGGGTTACAACTCTCTCTAAAATAAGGGCCAATTAACGTT\"\n",
    "\n",
    "seqdiff1(dna1, dna2)"
   ]
  },
  {
   "cell_type": "markdown",
   "metadata": {},
   "source": [
    "### What is the sequences are different lengths?\n",
    "Below we add an operation to compute the length of the two sequences and then use `min` to get the shortest one. \n",
    " "
   ]
  },
  {
   "cell_type": "code",
   "execution_count": null,
   "metadata": {},
   "outputs": [],
   "source": [
    "def seqdiff2(seq1, seq2):\n",
    "    \"\"\"\n",
    "    return the number of differences between two sequences,\n",
    "    compares sequences from start to the end of the shortest seq.\n",
    "    \"\"\"\n",
    "    ## a counter to store the number of diffs\n",
    "    count = 0\n",
    "    \n",
    "    ## get the shortest input sequence length\n",
    "    slen = min([len(i) for i in (seq1, seq2)])\n",
    "    \n",
    "    ## iterate over the index of bases and add to count if diff\n",
    "    for idx in range(slen):\n",
    "        if seq1[idx] != seq2[idx]:\n",
    "            count += 1\n",
    "    return count"
   ]
  },
  {
   "cell_type": "code",
   "execution_count": null,
   "metadata": {},
   "outputs": [],
   "source": [
    "dna1 = \"ACAGAGTTGCCAGGAGATGACAGAAAGGTGTGGGTTAC\"\n",
    "dna2 = \"ACAGAGTCGCCAGGAGATGACAGAAAGGTCTGGGTTACAACTCTCTCTA\"\n",
    "\n",
    "seqdiff2(dna1, dna2)"
   ]
  },
  {
   "cell_type": "markdown",
   "metadata": {},
   "source": [
    "## Challenges: Write functions and create sequences and test on them. \n",
    "For the challenges below try to write proper functions that include a documentation string and comments. "
   ]
  },
  {
   "cell_type": "markdown",
   "metadata": {},
   "source": [
    "A. Write a function that will generate and return a random sequence of bases of length N. Hint, for this use a new package from the standard library that we haven't used yet called `random`. You will need to import the package and then look for commands that you can use. One that would work is `random.sample`, but there are other ways as well. If you get stuck on how to use it then try asking google. "
   ]
  },
  {
   "cell_type": "code",
   "execution_count": 32,
   "metadata": {},
   "outputs": [],
   "source": [
    "#got help from: https://stackoverflow.com/questions/21205836/generating-random-sequences-of-dna \n",
    "\n",
    "#import package\n",
    "import random\n",
    "\n",
    "#function selects N items from C, G, T, and A\n",
    "def RandBase(N):\n",
    "    \"\"\"\n",
    "    A function that selects N random bases and returns\n",
    "    \n",
    "    Parameters:\n",
    "    -----------\n",
    "    N (int):\n",
    "        An integer input.\n",
    "        \n",
    "    Returns:\n",
    "    ---------\n",
    "    string\n",
    "    \"\"\"\n",
    "    #initialize string for holding bases\n",
    "    DNA=\"\"\n",
    "    #iterate across length of bases desired\n",
    "    for count in range(N):\n",
    "        #for each place in the length select one base and add it to the string\n",
    "        DNA+=choice(\"CGTA\")\n",
    "    return DNA"
   ]
  },
  {
   "cell_type": "code",
   "execution_count": 33,
   "metadata": {},
   "outputs": [
    {
     "data": {
      "text/plain": [
       "'AGTAA'"
      ]
     },
     "execution_count": 33,
     "metadata": {},
     "output_type": "execute_result"
    }
   ],
   "source": [
    "RandBase(5)"
   ]
  },
  {
   "cell_type": "markdown",
   "metadata": {},
   "source": [
    "B. Write a function to calculate and return the frequency of As, Cs, Ts and Gs in a sequence. "
   ]
  },
  {
   "cell_type": "code",
   "execution_count": 45,
   "metadata": {},
   "outputs": [],
   "source": [
    "#Got help from: http://www.ics.uci.edu/~thornton/cosmos/Lab2/Solutions/Program4.py \n",
    "\n",
    "def BaseFreq(dnaSequence):\n",
    "    \"\"\"\n",
    "    A function that counts the frequency of each base and returns\n",
    "    \n",
    "    Parameters:\n",
    "    -----------\n",
    "    dnaSequence (str):\n",
    "        A string input.\n",
    "        \n",
    "    Returns:\n",
    "    ---------\n",
    "    (int, int, int, int)\n",
    "    \"\"\"\n",
    "    \n",
    "    #initialize counters\n",
    "    aCount = 0\n",
    "    cCount = 0\n",
    "    tCount = 0\n",
    "    gCount = 0\n",
    "\n",
    "    #loop through characters in sequence and increment the relevant counter\n",
    "    for c in dnaSequence:\n",
    "        if c == 'a':\n",
    "            aCount = aCount + 1\n",
    "        elif c == 'c':\n",
    "            cCount = cCount + 1\n",
    "        elif c == 't':\n",
    "            tCount = tCount + 1\n",
    "        elif c == 'g':\n",
    "            gCount = gCount + 1\n",
    "\n",
    "    #return  the count for each base\n",
    "    return int(aCount), int(cCount), int(tCount), int(gCount)\n",
    "\n",
    "#would be ideal to get a label for each of the bases ... "
   ]
  },
  {
   "cell_type": "code",
   "execution_count": 46,
   "metadata": {},
   "outputs": [
    {
     "data": {
      "text/plain": [
       "(7, 3, 4, 6)"
      ]
     },
     "execution_count": 46,
     "metadata": {},
     "output_type": "execute_result"
    }
   ],
   "source": [
    "BaseFreq(\"atcgatgagagctagcgata\")"
   ]
  },
  {
   "cell_type": "markdown",
   "metadata": {},
   "source": [
    "C. Write a function to concatenate (join end-to-end) two sequences and return it"
   ]
  },
  {
   "cell_type": "code",
   "execution_count": 60,
   "metadata": {},
   "outputs": [],
   "source": [
    "def Conc(str1, str2):\n",
    "    \"\"\"\n",
    "    A function that takes any sequence and prints concatenated output\n",
    "    \n",
    "    Parameters:\n",
    "    -----------\n",
    "    str1, str2 (str, int, float):\n",
    "        A string, integer, or float input.\n",
    "        \n",
    "    Returns:\n",
    "    ---------\n",
    "    (str)\n",
    "    \"\"\"\n",
    "    #convert str1 to string so that it concatenates properly\n",
    "    str1a = str(str1)\n",
    "    #convert str2  to string so that it concatenates properly\n",
    "    str2a = str(str2)\n",
    "    #concatenate strings\n",
    "    out = str1a + str2a\n",
    "    #return concatenation\n",
    "    return out"
   ]
  },
  {
   "cell_type": "code",
   "execution_count": 62,
   "metadata": {
    "scrolled": true
   },
   "outputs": [
    {
     "data": {
      "text/plain": [
       "'abcdef'"
      ]
     },
     "execution_count": 62,
     "metadata": {},
     "output_type": "execute_result"
    }
   ],
   "source": [
    "Conc('abc','def')"
   ]
  },
  {
   "cell_type": "markdown",
   "metadata": {},
   "source": [
    "D. Write a function to take two sequences of different lengths and return both trimmed down to be the same length. "
   ]
  },
  {
   "cell_type": "code",
   "execution_count": 68,
   "metadata": {},
   "outputs": [],
   "source": [
    "def same_length(seq1, seq2):\n",
    "    \"\"\"\n",
    "    A function that takes any two sequences and prints the same length output\n",
    "    \n",
    "    Parameters:\n",
    "    -----------\n",
    "    str1, str2 (str, int, float):\n",
    "        A string, integer, or float input.\n",
    "        \n",
    "    Returns:\n",
    "    ---------\n",
    "    (str, str)\n",
    "    \"\"\"\n",
    "    #convert sequences to strings for proper handling\n",
    "    seq1 = str(seq1)\n",
    "    seq2 = str(seq2)\n",
    "    \n",
    "    #find length of each string\n",
    "    len1 = len(seq1)\n",
    "    len2 = len(seq2)\n",
    "    \n",
    "    #compare lengths and make output as long as shorter string\n",
    "    if len1 < len2:\n",
    "        shorter = len1\n",
    "        out1 = seq1\n",
    "        out2 = seq2[:len1]\n",
    "    elif len2 < len1:\n",
    "        shorter = len2\n",
    "        out1 = seq1[:len2]\n",
    "        out2 = seq2\n",
    "    else:\n",
    "        out1 = seq1\n",
    "        out2 = seq2\n",
    "    \n",
    "    return out1, out2"
   ]
  },
  {
   "cell_type": "code",
   "execution_count": 69,
   "metadata": {},
   "outputs": [
    {
     "data": {
      "text/plain": [
       "('22', '33')"
      ]
     },
     "execution_count": 69,
     "metadata": {},
     "output_type": "execute_result"
    }
   ],
   "source": [
    "same_length(2222,33)"
   ]
  },
  {
   "cell_type": "markdown",
   "metadata": {},
   "source": [
    "E. Write a function to return the proportion of bases across the shared length between two sequences that are the same. In this function, use the function that you created in `D` above to convert the sequences to be the same length (even if this is not necessarily the most efficient way to complete this task). "
   ]
  },
  {
   "cell_type": "code",
   "execution_count": 91,
   "metadata": {},
   "outputs": [],
   "source": [
    "def prop_bases(bases1,bases2):\n",
    "    \"\"\"\n",
    "    A function that takes any two sequences and returns the proportion of overlap between as the output\n",
    "    \n",
    "    Parameters:\n",
    "    -----------\n",
    "    bases1, bases2 (str):\n",
    "        A string input.\n",
    "        \n",
    "    Returns:\n",
    "    ---------\n",
    "    (float)\n",
    "    \"\"\"\n",
    "    #cut the sequences to the same length\n",
    "    bases = same_length(bases1, bases2)\n",
    "    \n",
    "    #get the frequency of each base letter from each sequence\n",
    "    freqs1 = BaseFreq(bases[0])\n",
    "    freqs2 = BaseFreq(bases[1])\n",
    "    \n",
    "    #get the value for the smaller number of bases of that letter (this is the max overlap of that base)\n",
    "    a = min(freqs1[0], freqs2[0])\n",
    "    c = min(freqs1[1], freqs2[1])\n",
    "    t = min(freqs1[2], freqs2[2])\n",
    "    g = min(freqs1[3], freqs2[3])\n",
    "    \n",
    "    #add the overlapping bases of each type and divide by the length of the sequence\n",
    "    prop = (int(a)+int(c)+int(t)+int(g))/len(bases[0])\n",
    "    \n",
    "    #return this proportion\n",
    "    return prop"
   ]
  },
  {
   "cell_type": "code",
   "execution_count": 92,
   "metadata": {},
   "outputs": [
    {
     "data": {
      "text/plain": [
       "0.8333333333333334"
      ]
     },
     "execution_count": 92,
     "metadata": {},
     "output_type": "execute_result"
    }
   ],
   "source": [
    "prop_bases(\"ccctga\",\"gctactg\")"
   ]
  },
  {
   "cell_type": "markdown",
   "metadata": {},
   "source": [
    "## Finished\n",
    "Save this notebook and close it. Push a copy of the notebook to the `assignment/` directory with your name in the filename like `./assignment/<myname>-3.4.ipynb`. "
   ]
  }
 ],
 "metadata": {
  "kernelspec": {
   "display_name": "Python 3",
   "language": "python",
   "name": "python3"
  },
  "language_info": {
   "codemirror_mode": {
    "name": "ipython",
    "version": 3
   },
   "file_extension": ".py",
   "mimetype": "text/x-python",
   "name": "python",
   "nbconvert_exporter": "python",
   "pygments_lexer": "ipython3",
   "version": "3.6.3"
  }
 },
 "nbformat": 4,
 "nbformat_minor": 2
}
