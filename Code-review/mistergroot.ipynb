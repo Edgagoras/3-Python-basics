{
 "cells": [
  {
   "cell_type": "markdown",
   "metadata": {},
   "source": [
    "# Code Review of dollysetton for Notebook 3.4"
   ]
  },
  {
   "cell_type": "code",
   "execution_count": 5,
   "metadata": {},
   "outputs": [],
   "source": [
    "import random     \n",
    "def SequenceGenerator(N):\n",
    "    bases = ['A', 'C', 'G', 'T']\n",
    "    seq_list = random.choices(bases,k=N)\n",
    "    seq = \"\".join(seq_list)\n",
    "    return seq"
   ]
  },
  {
   "cell_type": "code",
   "execution_count": 10,
   "metadata": {},
   "outputs": [
    {
     "data": {
      "text/plain": [
       "'TGATGACAGTACGTTCTTTCCCCGAGGCCTAGTTATCTACGGCATGCTTC'"
      ]
     },
     "execution_count": 10,
     "metadata": {},
     "output_type": "execute_result"
    }
   ],
   "source": [
    "SequenceGenerator(50)"
   ]
  },
  {
   "cell_type": "markdown",
   "metadata": {},
   "source": [
    "This looks great! Good job. I actually forgot to use the .join function in my code so this is a lot lot cleaner."
   ]
  },
  {
   "cell_type": "code",
   "execution_count": 17,
   "metadata": {},
   "outputs": [],
   "source": [
    "def Base_counter(bases):\n",
    "    A=0\n",
    "    C=0\n",
    "    T=0\n",
    "    G=0\n",
    "    for base in bases:\n",
    "        if base == 'A':\n",
    "            A +=1\n",
    "        if base == 'C':\n",
    "            C +=1\n",
    "        if base == 'T':\n",
    "            T +=1\n",
    "        if base == 'G':\n",
    "            G +=1\n",
    "    print (A,C,T,G) ##Original code: print \"There are {} As, {} Cs, {} Ts, and {} Gs.\".format(A,C,T,G)"
   ]
  },
  {
   "cell_type": "code",
   "execution_count": 15,
   "metadata": {},
   "outputs": [
    {
     "name": "stdout",
     "output_type": "stream",
     "text": [
      "14 12 14 10\n"
     ]
    }
   ],
   "source": [
    "Base_counter(SequenceGenerator(50))"
   ]
  },
  {
   "cell_type": "markdown",
   "metadata": {},
   "source": [
    "Unfortunately, I get a syntax error when I try to run the last line of your function but I see where you're trying to go with this. I couldn't figure out how to properly print text as part of the function either. I removed the text portion and just printed the counts of each of the bases and it worked great. Just remember that the question asks for the frequencies of each base so you'd have to divide the count of each nucleotide by the total number of bases in the input sequence (or at least that's what I thought the question was asking)."
   ]
  },
  {
   "cell_type": "code",
   "execution_count": 7,
   "metadata": {},
   "outputs": [],
   "source": [
    "def join_seq(p,q):\n",
    "    return p+q"
   ]
  },
  {
   "cell_type": "code",
   "execution_count": 11,
   "metadata": {},
   "outputs": [
    {
     "data": {
      "text/plain": [
       "'TTAAGGTTGTCTGACGAGCCCCCACGTACCTTCTTGCGCAGGTGTTTTGCAATTCGAGCGCTGACGTTTGATGGACCTCCCAAATAGAACCGTAGTGCGAGACTGATTCAGAACCTACCACGAAC'"
      ]
     },
     "execution_count": 11,
     "metadata": {},
     "output_type": "execute_result"
    }
   ],
   "source": [
    "seq1=SequenceGenerator(50)\n",
    "seq2=SequenceGenerator(75)\n",
    "join_seq(seq1,seq2)"
   ]
  },
  {
   "cell_type": "markdown",
   "metadata": {},
   "source": [
    "Looks great! "
   ]
  },
  {
   "cell_type": "code",
   "execution_count": 9,
   "metadata": {},
   "outputs": [],
   "source": [
    "def samelength(p,q):\n",
    "    slen = min([len(i) for i in (p, q)])\n",
    "    newversion1 = p[:slen]\n",
    "    newversion2 = q[:slen]\n",
    "    return [newversion1,newversion2]"
   ]
  },
  {
   "cell_type": "code",
   "execution_count": 18,
   "metadata": {},
   "outputs": [
    {
     "data": {
      "text/plain": [
       "['TTAAGGTTGTCTGACGAGCCCCCACGTACCTTCTTGCGCAGGTGTTTTGC',\n",
       " 'AATTCGAGCGCTGACGTTTGATGGACCTCCCAAATAGAACCGTAGTGCGA']"
      ]
     },
     "execution_count": 18,
     "metadata": {},
     "output_type": "execute_result"
    }
   ],
   "source": [
    "samelength(seq1,seq2)"
   ]
  },
  {
   "cell_type": "markdown",
   "metadata": {},
   "source": [
    "Great job! I did the same thing except I forgot to use the `.join` function in my random sequence generator function so my output was a 100 line nightmare, unlike yours."
   ]
  },
  {
   "cell_type": "markdown",
   "metadata": {},
   "source": [
    "You forgot to do the last problem, but I can't really blame you. It was a hard one! \n",
    "\n",
    "Good job on the assignment overall."
   ]
  }
 ],
 "metadata": {
  "kernelspec": {
   "display_name": "Python 3",
   "language": "python",
   "name": "python3"
  },
  "language_info": {
   "codemirror_mode": {
    "name": "ipython",
    "version": 3
   },
   "file_extension": ".py",
   "mimetype": "text/x-python",
   "name": "python",
   "nbconvert_exporter": "python",
   "pygments_lexer": "ipython3",
   "version": "3.6.3"
  }
 },
 "nbformat": 4,
 "nbformat_minor": 2
}
