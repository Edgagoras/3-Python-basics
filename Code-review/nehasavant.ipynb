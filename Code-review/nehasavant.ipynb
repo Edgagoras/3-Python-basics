{
 "cells": [
  {
   "cell_type": "markdown",
   "metadata": {},
   "source": [
    "## Code Review for Wenyi909-3.3 and 3.4 by nehasavant\n",
    "#### Feb 12, 2018"
   ]
  },
  {
   "cell_type": "markdown",
   "metadata": {},
   "source": [
    "#### Code Review Instructions:\n",
    "'''\n",
    "Create a new jupyter notebook called <myGitHubUserName>.ipynb. In the notebook, copy the functions that your peer wrote in their copy of notebooks 3.3 and 3.4 in the \"Challenges\" section at the end. You can find their notebooks on their GitHub repo. You can find the link to their repo under the People tab in the 'programming-for-bio' Organization page.\n",
    "\n",
    "Execute their code to generate test data, and to test it on their functions.\n",
    "\n",
    "Using Markdown cells, provide nice and useful feedback on their code. Write about how their implementation differs from yours. If you think it does not work correctly then point out the error. If you think they did something clever that you didn't do then point out what it is. Basically, provide a short comment on the code. You do not need to comment on every single code block. Try to format your notebook nicely using Markdown headers so it is clear and legible.\n",
    "'''"
   ]
  },
  {
   "cell_type": "markdown",
   "metadata": {},
   "source": [
    "### Wenyi909's 3.3 Challenges:"
   ]
  },
  {
   "cell_type": "code",
   "execution_count": 5,
   "metadata": {},
   "outputs": [],
   "source": [
    "import os\n",
    "import gzip\n",
    "import requests"
   ]
  },
  {
   "cell_type": "code",
   "execution_count": 6,
   "metadata": {},
   "outputs": [],
   "source": [
    "## Download the iris data set and write it to a file\n",
    "ur_new = \"http://eaton-lab.org/data/iris-data-dirty.csv\"\n",
    "response = requests.get(ur_new)"
   ]
  },
  {
   "cell_type": "markdown",
   "metadata": {},
   "source": [
    "In this first step above, you need to open the data you pulled from online and *write* it into a file before you read it in the next step. You want the .csv file to be stored in your directory, but right now I believe its just stored as a variable ur_new. I've added it below in line [10] along with your variable \"response\" so the rest of your code will work:"
   ]
  },
  {
   "cell_type": "code",
   "execution_count": 10,
   "metadata": {},
   "outputs": [],
   "source": [
    "#nehasavant's addition: \n",
    "file = open(\"./iris-data-dirty.csv\", 'w') #first open up an empty doc\n",
    "file.write(response.text) #Then access the data from online and write it to the newly created file.\n",
    "file.close() #Close the file"
   ]
  },
  {
   "cell_type": "code",
   "execution_count": 11,
   "metadata": {},
   "outputs": [],
   "source": [
    "## read in the iris data set from its filepath and store the data as a string\n",
    "file = open(\"./iris-data-dirty.csv\", 'r')\n",
    "data = file.read()\n",
    "file.close()"
   ]
  },
  {
   "cell_type": "code",
   "execution_count": 15,
   "metadata": {},
   "outputs": [],
   "source": [
    "## replace \"setsa\" with \"setosa\" and \"colour\" with \"color\" in the string data\n",
    "data_edit1 = data.replace(\"setsa\", \"setosa\")\n",
    "data_edit2 = data_edit1.replace(\"colour\", \"color\")"
   ]
  },
  {
   "cell_type": "code",
   "execution_count": 19,
   "metadata": {},
   "outputs": [],
   "source": [
    "## split the string to convert it into a list of lines from the file\n",
    "data_list = data_edit2.split()"
   ]
  },
  {
   "cell_type": "code",
   "execution_count": 23,
   "metadata": {},
   "outputs": [],
   "source": [
    "## strip the newline character from the end of each list element\n",
    "data_list_edit = []\n",
    "for i in range(len(data_list)):\n",
    "    data_list_edit.append(data_list[i].strip('\\n'))"
   ]
  },
  {
   "cell_type": "code",
   "execution_count": 29,
   "metadata": {},
   "outputs": [],
   "source": [
    "## remove any lines that are empty or have \"NA\" in them.\n",
    "clean_data_list1 = list(filter(None, data_list_edit))\n",
    "clean_list =[]\n",
    "for i in range(len(clean_data_list1)):\n",
    "    if clean_data_list1[i].find(\"NA\") <= 0:\n",
    "        clean_list.append(clean_data_list1[i])"
   ]
  },
  {
   "cell_type": "markdown",
   "metadata": {},
   "source": [
    "The above code works well! Another, somewhat cleaner option would be to use: if 'NA' is in clean_data_list1[i].\n",
    "To understand how to use the operator \"in\" you can look at this link: https://docs.python.org/2/library/stdtypes.html#sequence-types-str-unicode-list-tuple-bytearray-buffer-xrange in section 5.6. Or look at my 3.3 notebook. "
   ]
  },
  {
   "cell_type": "code",
   "execution_count": 30,
   "metadata": {},
   "outputs": [],
   "source": [
    "## concatenate the list back into a string with newline characters between lines\n",
    "clean_string = '\\n'.join(clean_list)"
   ]
  },
  {
   "cell_type": "code",
   "execution_count": 28,
   "metadata": {},
   "outputs": [],
   "source": [
    "## write the string to a new file called \"iris-data-clean.csv\"\n",
    "curdir = os.path.abspath('.')\n",
    "new_data = os.path.join(curdir, \"iris-data-clean.csv\")\n",
    "write_in = open(new_data, 'w')\n",
    "write_in.write(clean_string)\n",
    "write_in.close()"
   ]
  },
  {
   "cell_type": "markdown",
   "metadata": {},
   "source": [
    "I like how you used os.path.abspath() to make the new csv file! "
   ]
  },
  {
   "cell_type": "markdown",
   "metadata": {},
   "source": [
    "### Wenyi909's 3.4 Challenges:"
   ]
  },
  {
   "cell_type": "code",
   "execution_count": 35,
   "metadata": {},
   "outputs": [],
   "source": [
    "#A. Write a function that will generate and return a random sequence of bases of length N. \n",
    "#Hint, for this use a new package from the standard library that we haven't used yet called random. \n",
    "#You will need to import the package and then look for commands that you can use. \n",
    "#One that would work is random.sample, but there are other ways as well. \n",
    "#If you get stuck on how to use it then try asking google\n",
    "\n",
    "import random\n",
    "def randomseq(N):\n",
    "    \"\"\"\n",
    "    return a random sequence of bases of length N.\n",
    "    \"\"\"\n",
    "    ## All bases\n",
    "    bases = ['A','T','G','C']\n",
    "    ## The sequence as a string of bases\n",
    "    seq = ''\n",
    "    \n",
    "    ## Iterate over the length of sequence and add N random bases to the end of string\n",
    "    for i in range(N):\n",
    "        seq = seq + random.choice(bases)\n",
    "    return seq\n",
    "\n",
    "seq1 = randomseq(45)\n",
    "seq2 = randomseq(32)"
   ]
  },
  {
   "cell_type": "markdown",
   "metadata": {},
   "source": [
    "This works well! If you're looking to get more concise, I believe there is another function called random.choices that might help."
   ]
  },
  {
   "cell_type": "code",
   "execution_count": 38,
   "metadata": {},
   "outputs": [
    {
     "data": {
      "text/plain": [
       "['the frequency of As is 0.17777777777777778',\n",
       " 'the frequency of Ts is 0.26666666666666666',\n",
       " 'the frequency of Gs is 0.3111111111111111',\n",
       " 'the frequency of Cs is 0.24444444444444444']"
      ]
     },
     "execution_count": 38,
     "metadata": {},
     "output_type": "execute_result"
    }
   ],
   "source": [
    "#B. Write a function to calculate and return the frequency of As, Cs, Ts and Gs in a sequence.\n",
    "\n",
    "def basefreq(seq1):\n",
    "    \"\"\"\n",
    "    return the frequency of A, C, T, G in a string of sequence\n",
    "    \"\"\"\n",
    "    ## count of each base: a counts for A, c counts for C, t counts for T, g counts for G\n",
    "    a = 0\n",
    "    c = 0\n",
    "    t = 0\n",
    "    g = 0\n",
    "    \n",
    "    ## interate over the sequence and count each base\n",
    "    for x in seq1:\n",
    "        if x == \"A\":\n",
    "            a = a + 1\n",
    "        elif x == \"C\":\n",
    "            c = c + 1\n",
    "        elif x == \"G\":\n",
    "            g = g + 1\n",
    "        elif x == \"T\":\n",
    "            t = t + 1\n",
    "    \n",
    "    ## calculate the freqency and store it as a string\n",
    "    str_a = \"the frequency of As is \" + str(a/len(seq1))\n",
    "    str_t = \"the frequency of Ts is \" + str(t/len(seq1))\n",
    "    str_g = \"the frequency of Gs is \" + str(g/len(seq1))\n",
    "    str_c = \"the frequency of Cs is \" + str(c/len(seq1))\n",
    "    \n",
    "    ## return the strings as a list\n",
    "    return[str_a, str_t, str_g, str_c]\n",
    "\n",
    "basefreq(seq1)"
   ]
  },
  {
   "cell_type": "code",
   "execution_count": 39,
   "metadata": {},
   "outputs": [],
   "source": [
    "#C. Write a function to concatenate (join end-to-end) two sequences and return it\n",
    "\n",
    "def joinseq(seq1, seq2):\n",
    "    \"\"\"\n",
    "    join two sequences end to end\n",
    "    \"\"\"\n",
    "    seq = seq1 + seq2\n",
    "    return seq"
   ]
  },
  {
   "cell_type": "code",
   "execution_count": 42,
   "metadata": {},
   "outputs": [
    {
     "data": {
      "text/plain": [
       "['ACTATGGTCACGAGGTCTCAGACGTTGATTCT', 'TTTACGTGTTAGAATCTCTTTCCGTCCGTGGT']"
      ]
     },
     "execution_count": 42,
     "metadata": {},
     "output_type": "execute_result"
    }
   ],
   "source": [
    "#D. Write a function to take two sequences of different lengths and return both trimmed down to be the same length.\n",
    "\n",
    "def trimseq(seq1, seq2):\n",
    "    \"\"\"\n",
    "    take 2 sequences of different lengths and return both trimmed down to be the same length.\n",
    "    The portion to trim off is trimmed off from the end.\n",
    "    \"\"\"\n",
    "    if len(seq1) >=len(seq2):\n",
    "        seq1 = seq1[0:len(seq2)]\n",
    "    else:\n",
    "        seq2 = seq2[0:len(seq1)]\n",
    "    return[seq1, seq2]\n",
    "\n",
    "trimseq(seq1, seq2)"
   ]
  },
  {
   "cell_type": "code",
   "execution_count": 44,
   "metadata": {},
   "outputs": [
    {
     "data": {
      "text/plain": [
       "'10 out of 45 bases are the same between the two sequences'"
      ]
     },
     "execution_count": 44,
     "metadata": {},
     "output_type": "execute_result"
    }
   ],
   "source": [
    "#E. Write a function to return the proportion of bases across the shared length between two sequences that are the same. \n",
    "#In this function, use the function that you created in D above to convert the sequences to be the same length\n",
    "#(even if this is not necessarily the most efficient way to complete this task).\n",
    "\n",
    "def compareseq(seq1, seq2):\n",
    "    \"\"\"\n",
    "    trim the two sequences, and return the proportion of bases that are the same between the two sequences.\n",
    "    \"\"\"\n",
    "    ## count for the same base\n",
    "    n = 0\n",
    "    \n",
    "    ## count for number of bases checked in the for loop\n",
    "    i = 0\n",
    "    \n",
    "    trimseq(seq1, seq2)\n",
    "    \n",
    "    for x in seq1:\n",
    "        if x == seq2[i:i+1]:\n",
    "            n = n + 1\n",
    "        i = i + 1\n",
    "    \n",
    "    answer = str(n) + \" out of \" + str(len(seq1)) + \" bases are the same between the two sequences\"\n",
    "    return answer\n",
    "\n",
    "compareseq(seq1, seq2)"
   ]
  },
  {
   "cell_type": "code",
   "execution_count": null,
   "metadata": {},
   "outputs": [],
   "source": []
  }
 ],
 "metadata": {
  "kernelspec": {
   "display_name": "Python 3",
   "language": "python",
   "name": "python3"
  },
  "language_info": {
   "codemirror_mode": {
    "name": "ipython",
    "version": 3
   },
   "file_extension": ".py",
   "mimetype": "text/x-python",
   "name": "python",
   "nbconvert_exporter": "python",
   "pygments_lexer": "ipython3",
   "version": "3.6.3"
  }
 },
 "nbformat": 4,
 "nbformat_minor": 2
}
