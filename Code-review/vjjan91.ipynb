{
 "cells": [
  {
   "cell_type": "markdown",
   "metadata": {},
   "source": [
    "### Code Review of chloehacker's code"
   ]
  },
  {
   "cell_type": "markdown",
   "metadata": {},
   "source": [
    "#### Starting with section 3.3"
   ]
  },
  {
   "cell_type": "markdown",
   "metadata": {},
   "source": [
    "Please note the assumption is that ffile is an object that has already been created (Code cannot be replicated)"
   ]
  },
  {
   "cell_type": "code",
   "execution_count": null,
   "metadata": {},
   "outputs": [],
   "source": [
    "## Download the iris data set and write it to a file\n",
    "iris= \"http://eaton-lab.org/data/iris-data-dirty.csv\"\n",
    "ffile = open(\"./iris-data-dirty.csv\", 'w')\n",
    "ffile.write(requests.get(iris).text)\n",
    "ffile.close()"
   ]
  },
  {
   "cell_type": "markdown",
   "metadata": {},
   "source": [
    "No comments for the below chunk of code"
   ]
  },
  {
   "cell_type": "code",
   "execution_count": null,
   "metadata": {},
   "outputs": [],
   "source": [
    "## read in the iris data set from its filepath and store the data as a string\n",
    "ifile = open(\"./iris-data-dirty.csv\", 'r')\n",
    "iris_data = ifile.read()\n",
    "iris_data"
   ]
  },
  {
   "cell_type": "markdown",
   "metadata": {},
   "source": [
    "No comments for the below chunk of code"
   ]
  },
  {
   "cell_type": "code",
   "execution_count": null,
   "metadata": {},
   "outputs": [],
   "source": [
    "## replace \"setsa\" with \"setosa\" and \"colour\" with \"color\" in the string data\n",
    "import string\n",
    "iris1=iris_data.replace(\"setsa\", \"setosa\")\n",
    "iris2=iris1.replace(\"colour\", \"color\")\n",
    "iris2"
   ]
  },
  {
   "cell_type": "markdown",
   "metadata": {},
   "source": [
    "No comments for the below chunk of code"
   ]
  },
  {
   "cell_type": "code",
   "execution_count": null,
   "metadata": {},
   "outputs": [],
   "source": [
    "## split the string to convert it into a list of lines from the file\n",
    "i_list= iris2.split()\n",
    "i_list"
   ]
  },
  {
   "cell_type": "markdown",
   "metadata": {},
   "source": [
    "Interesting way of removing NAs. One could also create an empty list and add all elements with no NAs to that list, by using the command .append"
   ]
  },
  {
   "cell_type": "code",
   "execution_count": null,
   "metadata": {},
   "outputs": [],
   "source": [
    "## remove any lines that are empty or have \"NA\" in them.\n",
    "for i in range(len(i_list)):\n",
    "    if 'NA' in i_list[i]:\n",
    "        i_list.remove(i_list[i])\n",
    "        \n",
    "i_list"
   ]
  },
  {
   "cell_type": "markdown",
   "metadata": {},
   "source": [
    "Here, the output adds a '\\n' instead of adding a newline. I would print this variable instead of entering it's name."
   ]
  },
  {
   "cell_type": "code",
   "execution_count": null,
   "metadata": {},
   "outputs": [],
   "source": [
    "## concatenate the list back into a string with newline characters between lines\n",
    "i_string = '\\n'.join(i_list)\n",
    "i_string "
   ]
  },
  {
   "cell_type": "markdown",
   "metadata": {},
   "source": [
    "No comments on the below chunk of code"
   ]
  },
  {
   "cell_type": "code",
   "execution_count": null,
   "metadata": {},
   "outputs": [],
   "source": [
    "## write the string to a new file called \"iris-data-clean.csv\"\n",
    "newfile = open(\"iris-data-clean.csv\", 'w')\n",
    "newfile.write(i_string)\n",
    "newfile.close()"
   ]
  },
  {
   "cell_type": "markdown",
   "metadata": {},
   "source": [
    "#### Reviewing code from Section 3.4"
   ]
  },
  {
   "cell_type": "markdown",
   "metadata": {},
   "source": [
    "The below code works well, and the reference was cited as well:"
   ]
  },
  {
   "cell_type": "code",
   "execution_count": 2,
   "metadata": {},
   "outputs": [
    {
     "data": {
      "text/plain": [
       "'AAAGACAAGAAGATGGAACA'"
      ]
     },
     "execution_count": 2,
     "metadata": {},
     "output_type": "execute_result"
    }
   ],
   "source": [
    "from random import choice\n",
    "def random_bases(n):\n",
    "    DNA=\"\"\n",
    "    for count in range(n):\n",
    "        DNA+=choice(\"CGTA\")\n",
    "    return DNA\n",
    "random_bases(20)"
   ]
  },
  {
   "cell_type": "markdown",
   "metadata": {},
   "source": [
    "I get an invalid syntax error, since dna1 has not been defined."
   ]
  },
  {
   "cell_type": "code",
   "execution_count": 5,
   "metadata": {},
   "outputs": [
    {
     "ename": "SyntaxError",
     "evalue": "invalid syntax (<ipython-input-5-a8b718bc542b>, line 17)",
     "output_type": "error",
     "traceback": [
      "\u001b[0;36m  File \u001b[0;32m\"<ipython-input-5-a8b718bc542b>\"\u001b[0;36m, line \u001b[0;32m17\u001b[0m\n\u001b[0;31m    print \"In the sequence there are {} As, {} Cs, {} Ts, and {} Gs.\".format(A,C,T,G)\u001b[0m\n\u001b[0m                                                                    ^\u001b[0m\n\u001b[0;31mSyntaxError\u001b[0m\u001b[0;31m:\u001b[0m invalid syntax\n"
     ]
    }
   ],
   "source": [
    "dna1 = \"ACGTGGGTAGAGAGAGAGATTTTT\"\n",
    "\n",
    "def frequency_count(bases):\n",
    "    A=0\n",
    "    C=0\n",
    "    T=0\n",
    "    G=0\n",
    "    for base in bases:\n",
    "        if base == 'A':\n",
    "            A +=1\n",
    "        if base == 'C':\n",
    "            C +=1\n",
    "        if base == 'T':\n",
    "            T +=1\n",
    "        if base == 'G':\n",
    "            G +=1\n",
    "    print \"In the sequence there are {} As, {} Cs, {} Ts, and {} Gs.\".format(A,C,T,G)\n",
    "\n",
    "frequency_count(dna1)"
   ]
  },
  {
   "cell_type": "markdown",
   "metadata": {},
   "source": [
    "dna1 and dna2 were not defined and I added them to check if the code is working"
   ]
  },
  {
   "cell_type": "code",
   "execution_count": 8,
   "metadata": {},
   "outputs": [
    {
     "data": {
      "text/plain": [
       "'ACGTTTATATATATATCCCGGCGCACGGGATAAGAGGAGAGAGAGAGTTTTTCTCTCTGCTGCTCGTATAGGCTT'"
      ]
     },
     "execution_count": 8,
     "metadata": {},
     "output_type": "execute_result"
    }
   ],
   "source": [
    "dna1 = \"ACGTTTATATATATATCCCGGCGC\"\n",
    "dna2 =\"ACGGGATAAGAGGAGAGAGAGAGTTTTTCTCTCTGCTGCTCGTATAGGCTT\"\n",
    "\n",
    "def join_seq(p,o):\n",
    "    return p+o\n",
    "join_seq(dna1,dna2)"
   ]
  },
  {
   "cell_type": "markdown",
   "metadata": {},
   "source": [
    "The below lines of code work well. "
   ]
  },
  {
   "cell_type": "code",
   "execution_count": 10,
   "metadata": {},
   "outputs": [
    {
     "data": {
      "text/plain": [
       "['ACGTTTATATATATATCCCGGCGC', 'ACGGGATAAGAGGAGAGAGAGAGT']"
      ]
     },
     "execution_count": 10,
     "metadata": {},
     "output_type": "execute_result"
    }
   ],
   "source": [
    "def samelength(a,b):\n",
    "    slen = min([len(i) for i in (a, b)])\n",
    "    new1 = a[:slen]\n",
    "    new2 = b[:slen]\n",
    "    return [new1,new2]\n",
    "samelength(dna1,dna2)"
   ]
  },
  {
   "cell_type": "markdown",
   "metadata": {},
   "source": [
    "Below lines of code work accurately (although user mentioned that it did not when it was executed previously)."
   ]
  },
  {
   "cell_type": "code",
   "execution_count": 12,
   "metadata": {},
   "outputs": [
    {
     "data": {
      "text/plain": [
       "0.2916666666666667"
      ]
     },
     "execution_count": 12,
     "metadata": {},
     "output_type": "execute_result"
    }
   ],
   "source": [
    "\n",
    "def prop_same(a,b):\n",
    "    same1, same2 = samelength(a,b)\n",
    "    count = 0\n",
    "    for i in range(len(same1)):\n",
    "        if same1[i] == same2[i]:\n",
    "            count +=1 \n",
    "    return count/len(same1)\n",
    "prop_same(dna1,dna2)\n",
    "\n",
    "# i don't know how to make it not return a \"0\""
   ]
  }
 ],
 "metadata": {
  "kernelspec": {
   "display_name": "Python 3",
   "language": "python",
   "name": "python3"
  },
  "language_info": {
   "codemirror_mode": {
    "name": "ipython",
    "version": 3
   },
   "file_extension": ".py",
   "mimetype": "text/x-python",
   "name": "python",
   "nbconvert_exporter": "python",
   "pygments_lexer": "ipython3",
   "version": "3.6.3"
  }
 },
 "nbformat": 4,
 "nbformat_minor": 2
}
