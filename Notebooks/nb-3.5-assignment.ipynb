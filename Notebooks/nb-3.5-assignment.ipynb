{
 "cells": [
  {
   "cell_type": "markdown",
   "metadata": {},
   "source": [
    "# Code review instructions"
   ]
  },
  {
   "cell_type": "markdown",
   "metadata": {},
   "source": [
    "Starting now, you will have a new task in addition to your assignment each week which is to perform a *code review* of one of your peer's assignments. This is the reason why your assignments will need to be finished by Friday at 5pm, so that you have the weekend to complete the review. Don't worry, the code reviews are not intensive, so they won't ruin your weekend.  "
   ]
  },
  {
   "cell_type": "markdown",
   "metadata": {},
   "source": [
    "### How to do a code review"
   ]
  },
  {
   "cell_type": "markdown",
   "metadata": {},
   "source": [
    "You will now begin collaborating with each other by reviewing code that is on each other's repositories. Remember, our GitHub profiles share all of our public code with the world, so we can easily see what each other are doing. This is a good reason why there isn't really any good excuse to not finish the homework on time. If you are stuck you can look to your peers for guidance (but still, do not just copy).  \n",
    "\n",
    "\n"
   ]
  },
  {
   "cell_type": "markdown",
   "metadata": {},
   "source": [
    "### Step 1: Submit your own assignment by Friday at 5pm\n",
    "The instructions in your assignment will typically ask you to fork a repository, push updates/answers to your own local copy of that repo, and then make a pull-request to the course Organization \"programming-for-bio\". Your assignment will go into a directory called `assignment/`. "
   ]
  },
  {
   "cell_type": "markdown",
   "metadata": {},
   "source": [
    "### Step2: Find who you are reviewing. \n",
    "There will be a document in the repository for each week's class called `code-review-map.txt` which will have your name and the person you will be reviewing for that week. "
   ]
  },
  {
   "cell_type": "markdown",
   "metadata": {},
   "source": [
    "### Step3: Do the code review. \n",
    "The tasks involved in code review will change from week to week. Typically it will involve creating a jupyter notebook in which you run both your code and theirs, and discuss the differences in your answers. Once we learn more tools and methods for comparing and improving code we will have more things to critique. "
   ]
  },
  {
   "cell_type": "markdown",
   "metadata": {},
   "source": [
    "### Step4: Push your code review document to the Organization repo\n",
    "When your review is finished you should push it to your forked copy of the class repo into the directory called `code-reviews/`. Then make a pull-request to the 'programming-for-bio' Organization. "
   ]
  },
  {
   "cell_type": "markdown",
   "metadata": {},
   "source": [
    "# This week's instructions (Session 3)\n",
    "Create a new jupyter notebook called `<myGitHubUserName>.ipynb`. In the notebook, copy the functions that your peer wrote in their copy of notebooks 3.3 and 3.4 in the \"Challenges\" section at the end. You can find their notebooks on their GitHub repo. You can find the link to their repo under the `People` tab in the 'programming-for-bio' Organization page.\n",
    "\n",
    "Execute their code to generate test data, and to test it on their functions. \n",
    "\n",
    "Using Markdown cells, provide *nice and useful* feedback on their code. Write about how their implementation differs from yours. If you think it does not work correctly then point out the error. If you think they did something clever that you didn't do then point out what it it. Basically, provide a short comment on the code. You do not need to comment on every single code block. Try to format your notebook nicely using Markdown headers so it is **clear and legible.**\n"
   ]
  }
 ],
 "metadata": {
  "kernelspec": {
   "display_name": "Python 3",
   "language": "python",
   "name": "python3"
  },
  "language_info": {
   "codemirror_mode": {
    "name": "ipython",
    "version": 3
   },
   "file_extension": ".py",
   "mimetype": "text/x-python",
   "name": "python",
   "nbconvert_exporter": "python",
   "pygments_lexer": "ipython3",
   "version": "3.5.4"
  }
 },
 "nbformat": 4,
 "nbformat_minor": 2
}
