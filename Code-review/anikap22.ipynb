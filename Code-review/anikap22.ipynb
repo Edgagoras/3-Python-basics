{
 "cells": [
  {
   "cell_type": "markdown",
   "metadata": {},
   "source": [
    "##Code Review for section 3.3"
   ]
  },
  {
   "cell_type": "code",
   "execution_count": null,
   "metadata": {},
   "outputs": [],
   "source": [
    "## Download the iris data set and write it to a file\n",
    "url2 = \"http://eaton-lab.org/data/iris-data-dirty.csv\"\n",
    "ffile = open(\"./iris-data-dirty.csv\", 'w')\n",
    "ffile.write(requests.get(url2).text)\n",
    "ffile.close()"
   ]
  },
  {
   "cell_type": "code",
   "execution_count": null,
   "metadata": {},
   "outputs": [],
   "source": [
    "## read in the iris data set from its filepath and store the data as a string\n",
    "ifile = open(\"./iris-data-dirty.csv\", 'r')\n",
    "idata = ifile.read()"
   ]
  },
  {
   "cell_type": "code",
   "execution_count": null,
   "metadata": {},
   "outputs": [],
   "source": [
    "## replace \"setsa\" with \"setosa\" and \"colour\" with \"color\" in the string data\n",
    "import string\n",
    "idata = idata.replace('setsa','setosa')\n",
    "idata = idata.replace('colour','color')"
   ]
  },
  {
   "cell_type": "code",
   "execution_count": null,
   "metadata": {},
   "outputs": [],
   "source": [
    "## split the string to convert it into a list of lines from the file\n",
    "idata_split = idata.split()"
   ]
  },
  {
   "cell_type": "code",
   "execution_count": null,
   "metadata": {},
   "outputs": [],
   "source": [
    "## strip the newline character from the end of each list element\n",
    "print(idata_split) # The previous .split() command has already removed any '\\n' characters as one can see below"
   ]
  },
  {
   "cell_type": "markdown",
   "metadata": {},
   "source": [
    "I found the same thing for this section of code it had already been accomplished. "
   ]
  },
  {
   "cell_type": "code",
   "execution_count": null,
   "metadata": {},
   "outputs": [],
   "source": [
    "## remove any lines that are empty or have \"NA\" in them.\n",
    "idata_clean = []\n",
    "for x in idata_split:\n",
    "    if 'NA' not in x:\n",
    "        idata_clean.append(x)\n",
    "print (idata_clean)"
   ]
  },
  {
   "cell_type": "markdown",
   "metadata": {},
   "source": [
    "This is a clever way of executing the task. I did this by manually adding the line plus a new line character.\n",
    "'''python\n",
    "for line in t:\n",
    "    if 'NA' not in line:\n",
    "        clean.write(line + \"\\n\")\n",
    "'''\n",
    "Append does that all in one step which is probably a more efficient way of solving this. "
   ]
  },
  {
   "cell_type": "code",
   "execution_count": null,
   "metadata": {},
   "outputs": [],
   "source": [
    "## concatenate the list back into a string with newline characters between lines\n",
    "idata_string = '\\n'.join(idata_clean)\n",
    "print(idata_string)"
   ]
  },
  {
   "cell_type": "code",
   "execution_count": null,
   "metadata": {},
   "outputs": [],
   "source": [
    "## write the string to a new file called \"iris-data-clean.csv\"\n",
    "iris = open(\"./iris-data-clean.csv\", 'w')\n",
    "iris.write(idata_string)\n",
    "iris.close()"
   ]
  },
  {
   "cell_type": "markdown",
   "metadata": {},
   "source": [
    "Overall, the section 3.3 looks well executed and clearly written. It might help the comment the code a little bit to clarify why you are doing the steps."
   ]
  },
  {
   "cell_type": "markdown",
   "metadata": {},
   "source": [
    "##Code Review for section 3.4"
   ]
  },
  {
   "cell_type": "code",
   "execution_count": 1,
   "metadata": {},
   "outputs": [],
   "source": [
    "#Challenge A - make random bases \n",
    "# Reference to code - https://stackoverflow.com/questions/21205836/generating-random-sequences-of-dna\n",
    "\n",
    "from random import choice\n",
    "def bases(n):\n",
    "    \"\"\"\n",
    "    This function will print a sequence of bases of desired length, N\n",
    "    \n",
    "    \"\"\"\n",
    "    DNA=\"\"\n",
    "    for count in range(n):\n",
    "        DNA+=choice(\"CGTA\")\n",
    "    return DNA"
   ]
  },
  {
   "cell_type": "code",
   "execution_count": 2,
   "metadata": {},
   "outputs": [
    {
     "data": {
      "text/plain": [
       "'AACGCGTCGGAGAGCCTGTCTGCCACCTGGACTTATTCTA'"
      ]
     },
     "execution_count": 2,
     "metadata": {},
     "output_type": "execute_result"
    }
   ],
   "source": [
    "bases(40)"
   ]
  },
  {
   "cell_type": "markdown",
   "metadata": {},
   "source": [
    "Nice work on this function! I actually used the same source to look up how to implement this task. "
   ]
  },
  {
   "cell_type": "code",
   "execution_count": 3,
   "metadata": {},
   "outputs": [],
   "source": [
    "#Challenge B - return frequencies of each base\n",
    "def freq(base):\n",
    "    \"\"\"\n",
    "    This function will return the frequency of each base pair in a given sequence\n",
    "    \n",
    "    \"\"\"\n",
    "    A = 0\n",
    "    C = 0\n",
    "    G = 0\n",
    "    T = 0\n",
    "    \n",
    "    for i in base:\n",
    "        if i in 'A':\n",
    "            A +=1\n",
    "        if i in 'C':\n",
    "            C+= 1\n",
    "        if i in 'G':\n",
    "            G+= 1\n",
    "        if i in 'T':\n",
    "            T+=1\n",
    "    print ('A =', A)\n",
    "    print ('C =', C)\n",
    "    print ('G =', G)\n",
    "    print ('T =', T)"
   ]
  },
  {
   "cell_type": "code",
   "execution_count": 4,
   "metadata": {},
   "outputs": [
    {
     "ename": "NameError",
     "evalue": "name 'dna1' is not defined",
     "output_type": "error",
     "traceback": [
      "\u001b[1;31m---------------------------------------------------------------------------\u001b[0m",
      "\u001b[1;31mNameError\u001b[0m                                 Traceback (most recent call last)",
      "\u001b[1;32m<ipython-input-4-37ce88032ecc>\u001b[0m in \u001b[0;36m<module>\u001b[1;34m()\u001b[0m\n\u001b[1;32m----> 1\u001b[1;33m \u001b[0mprint\u001b[0m\u001b[1;33m(\u001b[0m\u001b[0mdna1\u001b[0m\u001b[1;33m)\u001b[0m\u001b[1;33m\u001b[0m\u001b[0m\n\u001b[0m\u001b[0;32m      2\u001b[0m \u001b[0mfreq\u001b[0m\u001b[1;33m(\u001b[0m\u001b[0mdna1\u001b[0m\u001b[1;33m)\u001b[0m\u001b[1;33m\u001b[0m\u001b[0m\n",
      "\u001b[1;31mNameError\u001b[0m: name 'dna1' is not defined"
     ]
    }
   ],
   "source": [
    "print(dna1)\n",
    "freq(dna1)"
   ]
  },
  {
   "cell_type": "markdown",
   "metadata": {},
   "source": [
    "When I run this I get an error: name 'dna1' is not defined. "
   ]
  },
  {
   "cell_type": "code",
   "execution_count": 5,
   "metadata": {},
   "outputs": [
    {
     "name": "stdout",
     "output_type": "stream",
     "text": [
      "A = 1\n",
      "C = 3\n",
      "G = 1\n",
      "T = 1\n"
     ]
    }
   ],
   "source": [
    "#define dna1\n",
    "dna1 = 'CTGCAC'\n",
    "freq(dna1)"
   ]
  },
  {
   "cell_type": "markdown",
   "metadata": {},
   "source": [
    "But it worked after I defined a new string called dna1. \n",
    "\n",
    "Using += is a nice trick that makes this function much more readable. It was also very nice that you were able to print out A, C, G, or T next to the frequency of that base. \n",
    "\n",
    "Does it matter that the results were printed and not returned? (I'm still a bit fuzzy on the difference.)"
   ]
  },
  {
   "cell_type": "code",
   "execution_count": 6,
   "metadata": {},
   "outputs": [],
   "source": [
    "#Challenge C - concatenate sequences\n",
    "def seqjoin(a,b):\n",
    "    \"\"\"\n",
    "    This function will join two sequences and return the output\n",
    "    \n",
    "    \"\"\"\n",
    "    return a + b"
   ]
  },
  {
   "cell_type": "code",
   "execution_count": 7,
   "metadata": {},
   "outputs": [
    {
     "ename": "NameError",
     "evalue": "name 'dna2' is not defined",
     "output_type": "error",
     "traceback": [
      "\u001b[1;31m---------------------------------------------------------------------------\u001b[0m",
      "\u001b[1;31mNameError\u001b[0m                                 Traceback (most recent call last)",
      "\u001b[1;32m<ipython-input-7-686ec247557c>\u001b[0m in \u001b[0;36m<module>\u001b[1;34m()\u001b[0m\n\u001b[1;32m----> 1\u001b[1;33m \u001b[0mseqjoin\u001b[0m\u001b[1;33m(\u001b[0m\u001b[0mdna1\u001b[0m\u001b[1;33m,\u001b[0m\u001b[0mdna2\u001b[0m\u001b[1;33m)\u001b[0m\u001b[1;33m\u001b[0m\u001b[0m\n\u001b[0m",
      "\u001b[1;31mNameError\u001b[0m: name 'dna2' is not defined"
     ]
    }
   ],
   "source": [
    "seqjoin(dna1,dna2)"
   ]
  },
  {
   "cell_type": "markdown",
   "metadata": {},
   "source": [
    "I am getting the same error here: name 'dna2' is not defined. So I'll try defining my own dan2 string and see if it works."
   ]
  },
  {
   "cell_type": "code",
   "execution_count": 8,
   "metadata": {},
   "outputs": [
    {
     "data": {
      "text/plain": [
       "'CTGCACGGCGG'"
      ]
     },
     "execution_count": 8,
     "metadata": {},
     "output_type": "execute_result"
    }
   ],
   "source": [
    "dna2 = bases(5)\n",
    "seqjoin(dna1, dna2)"
   ]
  },
  {
   "cell_type": "markdown",
   "metadata": {},
   "source": [
    "Now it works!\n",
    "\n",
    "This was a very efficient implementation! I converted the inputs into strings first just in case the sequences was a list of integers or tuple or anything because a + b does addition if they are numbers instead of letters. That may have been unnecessary."
   ]
  },
  {
   "cell_type": "code",
   "execution_count": 9,
   "metadata": {},
   "outputs": [],
   "source": [
    "#Challenge D - Trim to same length\n",
    "def trimmed(seq1, seq2):\n",
    "    \"\"\"\n",
    "    compares the length of two sequences, trims the longer one and returns both at the same length\n",
    "    \n",
    "    \"\"\"\n",
    "    # Get the shortest input sequence length\n",
    "    slen = min([len(i) for i in (seq1, seq2)])\n",
    "    \n",
    "    # Slice the sequences until the min length\n",
    "    newseq1 = seq1[:slen]\n",
    "    newseq2 = seq2[:slen]\n",
    "    \n",
    "    return [newseq1, newseq2]"
   ]
  },
  {
   "cell_type": "code",
   "execution_count": 10,
   "metadata": {},
   "outputs": [
    {
     "data": {
      "text/plain": [
       "['CTGCA', 'GGCGG']"
      ]
     },
     "execution_count": 10,
     "metadata": {},
     "output_type": "execute_result"
    }
   ],
   "source": [
    "trimmed(dna1,dna2)"
   ]
  },
  {
   "cell_type": "markdown",
   "metadata": {},
   "source": [
    "Good job again. You were very efficient in the implementation here getting the shortest length using a minimum function. I did that using a series of if statements which is much less efficient. \n",
    "\n",
    "Though I do wonder if you want to select the end of the sequence or start of the sequence. Here you have selected the last characters based on slen. I did the reverse and selected the first characters based on slen. "
   ]
  },
  {
   "cell_type": "code",
   "execution_count": 11,
   "metadata": {},
   "outputs": [],
   "source": [
    "#Challenge E - proportion of shared bases\n",
    "def prop(seq1, seq2):\n",
    "    \"\"\"\n",
    "    returns the proportion of bases across the shared length that are the same\n",
    "    \n",
    "    \"\"\"\n",
    "    # Used the above function to get the shortest input length\n",
    "    trim1, trim2 = trimmed(seq1,seq2) ## Gives a name to each element in a list\n",
    "    \n",
    "    # Set a counter\n",
    "    count = 0\n",
    "    \n",
    "    # Iterate over to identify the total proportion of bases that are shared\n",
    "    for idx in range(len(trim1)):\n",
    "        if seq1[idx] == seq2[idx]:\n",
    "            count += 1\n",
    "    return count/len(trim1)"
   ]
  },
  {
   "cell_type": "code",
   "execution_count": 12,
   "metadata": {},
   "outputs": [
    {
     "data": {
      "text/plain": [
       "0.0"
      ]
     },
     "execution_count": 12,
     "metadata": {},
     "output_type": "execute_result"
    }
   ],
   "source": [
    "prop(dna1,dna2)"
   ]
  },
  {
   "cell_type": "markdown",
   "metadata": {},
   "source": [
    "I get the result that 0 proportion are the same when using \"CTGCAC\" and \"GGCGG\". I suppose this might be an issue of us interpreting the prompt differently. I would say that the sequences both have one C and one G in common so 2 of the 5 bases are common. I think you compared the bases in the same position along the sequence and said that no two bases in the same position are the same.\n",
    "\n",
    "However, the implementation is very clear for the way that you wrote the function. Iterating across the bases in a for loop and incrementing the counter is fast and functional. "
   ]
  },
  {
   "cell_type": "code",
   "execution_count": 13,
   "metadata": {},
   "outputs": [
    {
     "name": "stdout",
     "output_type": "stream",
     "text": [
      "CTGCAC\n"
     ]
    }
   ],
   "source": [
    "print(dna1)"
   ]
  },
  {
   "cell_type": "code",
   "execution_count": 14,
   "metadata": {},
   "outputs": [
    {
     "name": "stdout",
     "output_type": "stream",
     "text": [
      "GGCGG\n"
     ]
    }
   ],
   "source": [
    "print(dna2)"
   ]
  },
  {
   "cell_type": "code",
   "execution_count": 15,
   "metadata": {},
   "outputs": [
    {
     "data": {
      "text/plain": [
       "0.3333333333333333"
      ]
     },
     "execution_count": 15,
     "metadata": {},
     "output_type": "execute_result"
    }
   ],
   "source": [
    "prop('CCGGAT','CTGATA')"
   ]
  },
  {
   "cell_type": "code",
   "execution_count": null,
   "metadata": {},
   "outputs": [],
   "source": []
  }
 ],
 "metadata": {
  "kernelspec": {
   "display_name": "Python 3",
   "language": "python",
   "name": "python3"
  },
  "language_info": {
   "codemirror_mode": {
    "name": "ipython",
    "version": 3
   },
   "file_extension": ".py",
   "mimetype": "text/x-python",
   "name": "python",
   "nbconvert_exporter": "python",
   "pygments_lexer": "ipython3",
   "version": "3.6.3"
  }
 },
 "nbformat": 4,
 "nbformat_minor": 2
}
