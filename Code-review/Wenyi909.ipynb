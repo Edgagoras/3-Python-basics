{
 "cells": [
  {
   "cell_type": "markdown",
   "metadata": {},
   "source": [
    "### Code Review for 3.3 Challenges\n",
    "Filter and count the Iris data set. Operate on strings and lists, read and write files. "
   ]
  },
  {
   "cell_type": "code",
   "execution_count": 2,
   "metadata": {},
   "outputs": [],
   "source": [
    "import requests"
   ]
  },
  {
   "cell_type": "code",
   "execution_count": 4,
   "metadata": {},
   "outputs": [],
   "source": [
    "## Download the iris data set and write it to a file\n",
    "url2 = \"http://eaton-lab.org/data/iris-data-dirty.csv\"\n",
    "file = open(\"./iris-data-dirty.csv\", 'w') #first open up an empty doc\n",
    "file.write(requests.get(url2).text) #Then access the data from online and write it to the newly created file.\n",
    "file.close() #Close the file"
   ]
  },
  {
   "cell_type": "markdown",
   "metadata": {},
   "source": [
    "##### Code Review\n",
    "This is a good way of writing the data into a file. In comparison, my code did not fulfill the requirement of \"writing it to a file.\" Instead I just simply download the file to a `response` object. \n"
   ]
  },
  {
   "cell_type": "code",
   "execution_count": 9,
   "metadata": {},
   "outputs": [],
   "source": [
    "## read in the iris data set from its filepath and store the data as a string\n",
    "iris = open(\"./iris-data-dirty.csv\", 'r')\n",
    "iris_data = iris.read() #reads data into a long string\n",
    "iris_data"
   ]
  },
  {
   "cell_type": "markdown",
   "metadata": {},
   "source": [
    "##### Code Review\n",
    "This is similar to what I did. But I think this code forgot to close the file after reading it. So I guess it needs to add another line of code: `iris.close()`.\n"
   ]
  },
  {
   "cell_type": "code",
   "execution_count": 10,
   "metadata": {},
   "outputs": [],
   "source": [
    "## replace \"setsa\" with \"setosa\" and \"colour\" with \"color\" in the string data\n",
    "new_iris1 = iris_data.replace('setsa', 'setosa')\n",
    "new_iris2 = new_iris1.replace('colour', 'color')"
   ]
  },
  {
   "cell_type": "markdown",
   "metadata": {},
   "source": [
    "##### Code Review\n",
    "I also use the `replace` function of string, which I believe is the simplest way of doing this task.\n",
    "\n"
   ]
  },
  {
   "cell_type": "code",
   "execution_count": 11,
   "metadata": {},
   "outputs": [],
   "source": [
    "## split the string to convert it into a list of lines from the file\n",
    "iris_list = new_iris2.split()"
   ]
  },
  {
   "cell_type": "markdown",
   "metadata": {},
   "source": [
    "##### Code Review\n",
    "This is the same as what I did. The `split` function in default can convert a string into a list of lines.\n"
   ]
  },
  {
   "cell_type": "code",
   "execution_count": null,
   "metadata": {},
   "outputs": [],
   "source": [
    "## strip the newline character from the end of each list element\n",
    "#Ans: There is no newline character from the end of each list element to remove. See below: \n",
    "print(iris_list)"
   ]
  },
  {
   "cell_type": "markdown",
   "metadata": {},
   "source": [
    "##### Code Review\n",
    "I do notice that there is no `\\n` character at the end of each element shown as output. But I still did the following to make sure there is no hidden `\\n` that is not displayed:\n",
    "```\n",
    "data_list_edit = []\n",
    "for i in range(len(data_list)):\n",
    "    data_list_edit.append(data_list[i].strip('\\n'))\n",
    "```\n",
    "The code above iterate over the entire data list, and strip each list element of `\\n` if there is any. Then I used the `append` function to add the treated element to a new list `data_list_edit` in order."
   ]
  },
  {
   "cell_type": "code",
   "execution_count": null,
   "metadata": {},
   "outputs": [],
   "source": [
    "## remove any lines that are empty or have \"NA\" in them.\n",
    "for i in range(len(iris_list)): \n",
    "    if 'NA' in iris_list[i]: \n",
    "        iris_list.remove(iris_list[i])\n",
    "print(iris_list)"
   ]
  },
  {
   "cell_type": "markdown",
   "metadata": {},
   "source": [
    "##### Code Review\n",
    "I notice that there is no empty line already, so it is understandable that the code does not have anything to remove the empty lines. But I still use `filter` to get rid of the `None` element in the list.\n",
    "\n",
    "As for the task of removing lines with `NA`, this code did in a simpler fashion. But I'm a bit worried that when you remove some list elements, it will **change all the index after that element**. But the index `i` does not reflect the change. Therefore it will create problems if continuously two lines have `NA` in it.\n",
    "\n",
    "I think there are two solutions: first, you can add a line `i = i - 1` within the `if`. Second, that is what I did: create an empty list and put all lines without `NA` into the new list."
   ]
  },
  {
   "cell_type": "code",
   "execution_count": 15,
   "metadata": {
    "scrolled": false
   },
   "outputs": [],
   "source": [
    "## concatenate the list back into a string with newline characters between lines\n",
    "iris_string = '\\n'.join(iris_list)\n",
    "print (iris_string)"
   ]
  },
  {
   "cell_type": "markdown",
   "metadata": {},
   "source": [
    "##### Code Review\n",
    "This is the same as what I did."
   ]
  },
  {
   "cell_type": "code",
   "execution_count": 14,
   "metadata": {},
   "outputs": [],
   "source": [
    "## write the string to a new file called \"iris-data-clean.csv\"\n",
    "clean_file = open(\"./iris-data-clean.csv\", \"w\")\n",
    "clean_file.write(iris_string)\n",
    "clean_file.close()"
   ]
  },
  {
   "cell_type": "markdown",
   "metadata": {},
   "source": [
    "##### Code Review\n",
    "This is a better way of doing it. I did not know that `open` can directly create a new file, so I specify the path and then use the `os.path.join` to create the new file. Everything afterwards is the same."
   ]
  },
  {
   "cell_type": "markdown",
   "metadata": {},
   "source": [
    "### Code Review for 3.4 Challenges\n",
    "Write proper functions that include a documentation string and comments."
   ]
  },
  {
   "cell_type": "markdown",
   "metadata": {},
   "source": [
    "**A. Generate and return a random sequence of bases of length N**"
   ]
  },
  {
   "cell_type": "code",
   "execution_count": 18,
   "metadata": {},
   "outputs": [
    {
     "data": {
      "text/plain": [
       "'TTGTA'"
      ]
     },
     "execution_count": 18,
     "metadata": {},
     "output_type": "execute_result"
    }
   ],
   "source": [
    "#Write a function that will generate and return a random sequence of bases of length N.\n",
    "import random\n",
    "def random_seq(N):\n",
    "    ##Create a new sequence that randomly chooses N bases with replacement from A, T, C, or G. \n",
    "    new_seq = random.choices('ATCG', k=N)\n",
    "    ## Turn this new sequence from a list to a string with the join() function. \n",
    "    final_seq = ''.join(new_seq)\n",
    "    return final_seq\n",
    "\n",
    "random_seq(5)"
   ]
  },
  {
   "cell_type": "markdown",
   "metadata": {},
   "source": [
    "##### Code Review\n",
    "The function itself and the comments are both very good, but there is no documentation string, which is something like `'''return a random sequence of bases of length N.'''` within the function definition. \n",
    "\n",
    "For the function, I did in a more complicated way: I create a list of the base names, and do the `random.choice` for N times using a `for` loop."
   ]
  },
  {
   "cell_type": "markdown",
   "metadata": {},
   "source": [
    "**B. Write a function to calculate and return the frequency of As, Cs, Ts and Gs in a sequence.**"
   ]
  },
  {
   "cell_type": "code",
   "execution_count": 22,
   "metadata": {},
   "outputs": [
    {
     "name": "stdout",
     "output_type": "stream",
     "text": [
      "There are 3 As, 3 Cs, 3 Ts, and 3 Gs in this sequence.\n"
     ]
    }
   ],
   "source": [
    "def freq_base(seq):\n",
    "    ##Creating empty counts for each base. \n",
    "    A=0\n",
    "    C=0\n",
    "    T=0\n",
    "    G=0\n",
    "    ##Iterating over the sequence and adding to the count each time a base matches. \n",
    "    for i in seq: \n",
    "        if i == 'A': \n",
    "            A += 1\n",
    "        if i == 'C':\n",
    "            C += 1\n",
    "        if i == 'T':\n",
    "            T += 1\n",
    "        if i == 'G':\n",
    "            G += 1\n",
    "    print (\"There are {} As, {} Cs, {} Ts, and {} Gs in this sequence.\".format(A,C,T,G))\n",
    "    \n",
    "freq_base(\"AAATTTGGGCCC\")"
   ]
  },
  {
   "cell_type": "markdown",
   "metadata": {},
   "source": [
    "##### Code Review\n",
    "Same as last one, there needs to be a documentation string.\n",
    "\n",
    "Also I think the question asks for the frequency, so there may need to be an extra step to divide the counts you have by `len(seq)` which is the total number of bases.\n",
    "\n",
    "The `print` seems to work fine here. But I also think using `return` could have a similar result and is more common."
   ]
  },
  {
   "cell_type": "markdown",
   "metadata": {},
   "source": [
    "**C. Write a function to concatenate (join end-to-end) two sequences and return it.**"
   ]
  },
  {
   "cell_type": "code",
   "execution_count": 23,
   "metadata": {},
   "outputs": [
    {
     "data": {
      "text/plain": [
       "'AAAATTTCCCGGGGGGCCA'"
      ]
     },
     "execution_count": 23,
     "metadata": {},
     "output_type": "execute_result"
    }
   ],
   "source": [
    "def join_seq(seq1, seq2):\n",
    "    ##Join two strings \n",
    "    joined = seq1 + seq2\n",
    "    ##Return one string\n",
    "    return (joined)\n",
    "    \n",
    "join_seq(\"AAAATTTCCC\", \"GGGGGGCCA\")"
   ]
  },
  {
   "cell_type": "markdown",
   "metadata": {},
   "source": [
    "##### Code Review\n",
    "I did exactly the same thing. Just need documentation string."
   ]
  },
  {
   "cell_type": "markdown",
   "metadata": {},
   "source": [
    "**D. Write a function to take two sequences of different lengths and return both trimmed down to be the same length.**"
   ]
  },
  {
   "cell_type": "code",
   "execution_count": 25,
   "metadata": {},
   "outputs": [
    {
     "data": {
      "text/plain": [
       "['AAAAATTTT', 'AAAAATTCT']"
      ]
     },
     "execution_count": 25,
     "metadata": {},
     "output_type": "execute_result"
    }
   ],
   "source": [
    "def trim_join(seq1, seq2): \n",
    "    ## Get the shortest input sequence length. slen is an integer.\n",
    "    slen = min([len(i) for i in (seq1, seq2)])\n",
    "    ## Create new sequences with with the minimum length (so you don't have to figure out which one is the short one)\n",
    "    new_seq1 = seq1[:slen]\n",
    "    new_seq2 = seq2[:slen]\n",
    "    return [new_seq1,new_seq2]\n",
    "\n",
    "trim_join(\"AAAAATTTT\", \"AAAAATTCTCTGGGGGGG\")"
   ]
  },
  {
   "cell_type": "markdown",
   "metadata": {},
   "source": [
    "##### Code Review\n",
    "This is a good method to do the trim, different from mine. Basically it defines a new number as the shortest length of the two sequences. And then trim the two sequences. Certainly one of the two would not have any change, but the other one would be trimmed shorter.\n",
    "\n",
    "My way is slightly different. I use a `if... else...` format to specify the two possibilities. I think both methods are fine."
   ]
  },
  {
   "cell_type": "markdown",
   "metadata": {},
   "source": [
    "**E. Write a function to return the proportion of bases across the shared length between two sequences that are the same.**"
   ]
  },
  {
   "cell_type": "code",
   "execution_count": 30,
   "metadata": {},
   "outputs": [
    {
     "data": {
      "text/plain": [
       "0.5"
      ]
     },
     "execution_count": 30,
     "metadata": {},
     "output_type": "execute_result"
    }
   ],
   "source": [
    "def prop_base(seq1, seq2):\n",
    "    #Uses my trim_join function to trim the sequences to the same length as the shortest seq and reassigns the elements in the output list to independently named strings.\n",
    "    trim1, trim2 = trim_join(seq1, seq2)\n",
    "    ## A counter to store the number of similarities.\n",
    "    count = 0\n",
    "    for i in range(len(trim1)):\n",
    "        ##check how many bases are similar between the two sequences.\n",
    "        if trim1[i] == trim2[i]: \n",
    "            count += 1\n",
    "    ##Returns the proportion of similarlity: the number of base matches divided by the total number. \n",
    "    return count/len(trim1)\n",
    "\n",
    "prop_base(\"AACCCCCCCCCC\", \"AAGGCT\")"
   ]
  },
  {
   "cell_type": "markdown",
   "metadata": {},
   "source": [
    "##### Code Review\n",
    "This function is nicely designed. I also did in a similar way, but I `return` in a different way. I'm actually not sure what is suppossed to be returned. Here the frequency of identity is returned. In my case, the function returns a string about how many bases out of the entire length are the same."
   ]
  },
  {
   "cell_type": "code",
   "execution_count": null,
   "metadata": {},
   "outputs": [],
   "source": []
  }
 ],
 "metadata": {
  "kernelspec": {
   "display_name": "Python 3",
   "language": "python",
   "name": "python3"
  },
  "language_info": {
   "codemirror_mode": {
    "name": "ipython",
    "version": 3
   },
   "file_extension": ".py",
   "mimetype": "text/x-python",
   "name": "python",
   "nbconvert_exporter": "python",
   "pygments_lexer": "ipython3",
   "version": "3.6.3"
  }
 },
 "nbformat": 4,
 "nbformat_minor": 2
}
