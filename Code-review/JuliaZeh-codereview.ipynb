{
 "cells": [
  {
   "cell_type": "markdown",
   "metadata": {},
   "source": [
    "# JuliaZeh 3.4 code review "
   ]
  },
  {
   "cell_type": "markdown",
   "metadata": {},
   "source": [
    "## Challenges: Write functions and create sequences and test on them. \n",
    "For the challenges below try to write proper functions that include a documentation string and comments. "
   ]
  },
  {
   "cell_type": "markdown",
   "metadata": {},
   "source": [
    "A. Write a function that will generate and return a random sequence of bases of length N. Hint, for this use a new package from the standard library that we haven't used yet called `random`. You will need to import the package and then look for commands that you can use. One that would work is `random.sample`, but there are other ways as well. If you get stuck on how to use it then try asking google. "
   ]
  },
  {
   "cell_type": "code",
   "execution_count": 31,
   "metadata": {},
   "outputs": [],
   "source": [
    "import random"
   ]
  },
  {
   "cell_type": "code",
   "execution_count": 32,
   "metadata": {},
   "outputs": [],
   "source": [
    "def randomseq(N):\n",
    "    \"\"\"Generates a random sequence of bases of length N\"\"\"\n",
    "    sequence = \"\".join(random.sample('ATCG'*N, N))\n",
    "    return sequence"
   ]
  },
  {
   "cell_type": "code",
   "execution_count": 33,
   "metadata": {},
   "outputs": [
    {
     "data": {
      "text/plain": [
       "('TCGGCGATGC', 'GTTGGACGGGAA')"
      ]
     },
     "execution_count": 33,
     "metadata": {},
     "output_type": "execute_result"
    }
   ],
   "source": [
    "\"\"\"\n",
    "Creating and viewing sample sequences to confirm this function works\n",
    "and to test in the rest of the following challenges\n",
    "\"\"\"\n",
    "sampleseq1 = randomseq(10)\n",
    "sampleseq2 = randomseq(12)\n",
    "sampleseq1, sampleseq2"
   ]
  },
  {
   "cell_type": "markdown",
   "metadata": {},
   "source": [
    "B. Write a function to calculate and return the frequency of As, Cs, Ts and Gs in a sequence. "
   ]
  },
  {
   "cell_type": "code",
   "execution_count": 35,
   "metadata": {},
   "outputs": [
    {
     "data": {
      "text/plain": [
       "(3, 1, 6, 2)"
      ]
     },
     "execution_count": 35,
     "metadata": {},
     "output_type": "execute_result"
    }
   ],
   "source": [
    "def freq(sequence):\n",
    "    \"\"\"Calculates and returns the frequency of each base in a sequence\"\"\"\n",
    "    seqlist = sequence.split()\n",
    "    numberofas = sequence.count(\"A\")\n",
    "    numberofcs = sequence.count(\"C\")\n",
    "    numberofts = sequence.count(\"T\")\n",
    "    numberofgs = sequence.count(\"G\")\n",
    "    return numberofas, numberofcs, numberofgs, numberofts\n",
    "\n",
    "freq(sampleseq2)"
   ]
  },
  {
   "cell_type": "markdown",
   "metadata": {},
   "source": [
    "C. Write a function to concatenate (join end-to-end) two sequences and return it"
   ]
  },
  {
   "cell_type": "code",
   "execution_count": 36,
   "metadata": {},
   "outputs": [
    {
     "data": {
      "text/plain": [
       "'TCGGCGATGCGTTGGACGGGAA'"
      ]
     },
     "execution_count": 36,
     "metadata": {},
     "output_type": "execute_result"
    }
   ],
   "source": [
    "def joinseq(seq1, seq2):\n",
    "    \"\"\"Concatenates two sequences and returns new string\"\"\"\n",
    "    sequences = (seq1, seq2)\n",
    "    newseq = \"\".join(sequences)\n",
    "    return newseq\n",
    "\n",
    "joinseq(sampleseq1, sampleseq2)"
   ]
  },
  {
   "cell_type": "markdown",
   "metadata": {},
   "source": [
    "D. Write a function to take two sequences of different lengths and return both trimmed down to be the same length. "
   ]
  },
  {
   "cell_type": "code",
   "execution_count": 37,
   "metadata": {},
   "outputs": [
    {
     "data": {
      "text/plain": [
       "('TCGGCGATGC', 'GTTGGACGGG')"
      ]
     },
     "execution_count": 37,
     "metadata": {},
     "output_type": "execute_result"
    }
   ],
   "source": [
    "def trimseq(seq1, seq2):\n",
    "    \"\"\"\n",
    "    Takes two sequences of different lengths and returns both trimmed down to the same length\n",
    "    \"\"\"\n",
    "    length = min([len(i) for i in (seq1, seq2)])\n",
    "    trim1 = seq1[:length]\n",
    "    trim2 = seq2[:length]\n",
    "    return trim1, trim2\n",
    "\n",
    "trimseq(sampleseq1, sampleseq2)"
   ]
  },
  {
   "cell_type": "markdown",
   "metadata": {},
   "source": [
    "E. Write a function to return the proportion of bases across the shared length between two sequences that are the same. In this function, use the function that you created in `D` above to convert the sequences to be the same length (even if this is not necessarily the most efficient way to complete this task). "
   ]
  },
  {
   "cell_type": "code",
   "execution_count": 38,
   "metadata": {},
   "outputs": [
    {
     "data": {
      "text/plain": [
       "0.8"
      ]
     },
     "execution_count": 38,
     "metadata": {},
     "output_type": "execute_result"
    }
   ],
   "source": [
    "def proportionshared(seq1, seq2):\n",
    "    \"\"\"\n",
    "    Returns the proportion of bases across the shared length between two sequences that are\n",
    "    the same\n",
    "    \"\"\"\n",
    "    trimseq(seq1,seq2)\n",
    "    return (seqdiff2(seq1, seq2)/len(seq1))\n",
    "        \n",
    "proportionshared(sampleseq1, sampleseq2)"
   ]
  },
  {
   "cell_type": "code",
   "execution_count": null,
   "metadata": {},
   "outputs": [],
   "source": [
    "##Great job with the code this week! It looks like everything worked well and it was very clean and easy to follow. "
   ]
  },
  {
   "cell_type": "markdown",
   "metadata": {},
   "source": [
    "## Finished\n",
    "Save this notebook and close it. Push a copy of the notebook to the `assignment/` directory with your name in the filename like `./assignment/<myname>-3.4.ipynb`. "
   ]
  }
 ],
 "metadata": {
  "kernelspec": {
   "display_name": "Python 3",
   "language": "python",
   "name": "python3"
  },
  "language_info": {
   "codemirror_mode": {
    "name": "ipython",
    "version": 3
   },
   "file_extension": ".py",
   "mimetype": "text/x-python",
   "name": "python",
   "nbconvert_exporter": "python",
   "pygments_lexer": "ipython3",
   "version": "3.6.3"
  }
 },
 "nbformat": 4,
 "nbformat_minor": 2
}
