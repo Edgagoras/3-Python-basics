{
 "cells": [
  {
   "cell_type": "markdown",
   "metadata": {},
   "source": [
    "# Jessica Hoch Code Review"
   ]
  },
  {
   "cell_type": "markdown",
   "metadata": {},
   "source": [
    "## Notebook 3.3"
   ]
  },
  {
   "cell_type": "markdown",
   "metadata": {},
   "source": [
    "#### Question 1. Download the iris data set and wrrite it to a file"
   ]
  },
  {
   "cell_type": "code",
   "execution_count": 2,
   "metadata": {},
   "outputs": [],
   "source": [
    "import os\n",
    "import gzip\n",
    "import requests"
   ]
  },
  {
   "cell_type": "code",
   "execution_count": 4,
   "metadata": {},
   "outputs": [],
   "source": [
    "url2=\"http://eaton-lab.org/data/iris-data-dirty.csv\"\n",
    "#download the iris data set\n",
    "ffile = open(\"./iris-data-dirty.csv\", 'w')\n",
    "# and write it to a file \n",
    "ffile.write(requests.get(url2).text)\n",
    "ffile.close()"
   ]
  },
  {
   "cell_type": "markdown",
   "metadata": {},
   "source": [
    "#### Question 2. Read in the iris data set from its filepath and store the data as a string"
   ]
  },
  {
   "cell_type": "code",
   "execution_count": 6,
   "metadata": {},
   "outputs": [],
   "source": [
    "#read the iris data set from its filepath\n",
    "ifile = open(\"./iris-data-dirty.csv\", 'r')\n",
    "ifile\n",
    "#store data as a string \n",
    "idata = ifile.read()"
   ]
  },
  {
   "cell_type": "markdown",
   "metadata": {},
   "source": [
    "#### Quetion 3. Replace \"setsa\" with \"setosa\" and \"colour\" with \"color\" in the string data\n"
   ]
  },
  {
   "cell_type": "code",
   "execution_count": 26,
   "metadata": {},
   "outputs": [],
   "source": [
    "idata2 = str.replace(idata, 'setsa', 'setosa') \n",
    "idata3 = str.replace(idata2, \"colour\", \"color\")"
   ]
  },
  {
   "cell_type": "code",
   "execution_count": 30,
   "metadata": {},
   "outputs": [],
   "source": [
    "# Comments: This works! I did mine a little differently and overwrote the same file twice. This is what mine looked like:\n",
    "#idata = idata.replace(\"setsa\", \"setosa\")\n",
    "#idata = idata.replace(\"colour\", \"color\")\n"
   ]
  },
  {
   "cell_type": "markdown",
   "metadata": {},
   "source": [
    "#### Question 4. Split the string to convert it into a list of lines from the file"
   ]
  },
  {
   "cell_type": "code",
   "execution_count": 9,
   "metadata": {
    "scrolled": true
   },
   "outputs": [
    {
     "name": "stdout",
     "output_type": "stream",
     "text": [
      "5.1,3.5,1.4,0.2,Iris-setosa\n",
      "4.9,3.0,1.4,0.2,Iris-setosa\n",
      "4.7,3.2,1.3,0.2,Iris-setosa\n",
      "4.6,3.1,1.5,0.2,Iris-setosa\n",
      "5.0,3.6,1.4,0.2,Iris-setosa\n",
      "5.4,3.9,1.7,0.4,Iris-setosa\n",
      "4.6,3.4,1.4,0.3,Iris-setosa\n",
      "5.0,\n",
      "\n",
      "The first line: \n",
      "5.1,3.5,1.4,0.2,Iris-setosa\n",
      "\n",
      "Number lines in the file = 150\n"
     ]
    }
   ],
   "source": [
    "print (idata3[:200])\n",
    "ireads = idata3.strip().split(\"\\n\")\n",
    "print(\"\\nThe first line: \\n{}\".format(ireads[0]))\n",
    "print(\"\\nNumber lines in the file = {}\".format(len(ireads)))"
   ]
  },
  {
   "cell_type": "code",
   "execution_count": null,
   "metadata": {},
   "outputs": [],
   "source": [
    "# I like how you formatted this with the first line and number of lines in the file!"
   ]
  },
  {
   "cell_type": "markdown",
   "metadata": {},
   "source": [
    "#### Question 5. Strip the newline character from the end of each list element"
   ]
  },
  {
   "cell_type": "code",
   "execution_count": 10,
   "metadata": {},
   "outputs": [
    {
     "name": "stdout",
     "output_type": "stream",
     "text": [
      "5.1,3.5,1.4,0.2,Iris-setosa\n",
      "4.9,3.0,1.4,0.2,Iris-setosa\n",
      "4.7,3.2,1.3,0.2,Iris-setosa\n",
      "4.6,3.1,1.5,0.2,Iris-setosa\n",
      "5.0,3.6,1.4,0.2,Iris-setosa\n",
      "5.4,3.9,1.7,0.4,Iris-setosa\n",
      "4.6,3.4,1.4,0.3,Iris-setosa\n",
      "5.0,3.4,1.5,0.2,Iris-setosa\n",
      "4.4,2.9,1.4,0.2,Iris-setosa\n",
      "4.9,3.1,1.5,0.1,Iris-setosa\n",
      "5.4,3.7,1.5,0.2,Iris-setosa\n",
      "4.8,3.4,1.6,0.2,Iris-setosa\n",
      "4.8,3.0,1.4,0.1,Iris-setosa\n",
      "4.3,3.0,1.1,0.1,Iris-setosa\n",
      "5.8,4.0,1.2,0.2,Iris-setosa\n",
      "5.7,4.4,1.5,0.4,Iris-setosa\n",
      "5.4,3.9,1.3,0.4,Iris-setosa\n",
      "5.1,3.5,1.4,0.3,Iris-setosa\n",
      "5.7,3.8,1.7,0.3,Iris-setosa\n",
      "5.1,3.8,1.5,0.3,Iris-setosa\n",
      "5.4,3.4,1.7,0.2,Iris-setosa\n",
      "5.1,3.7,1.5,0.4,Iris-setosa\n",
      "4.6,3.6,1.0,0.2,Iris-setosa\n",
      "5.1,3.3,1.7,0.5,Iris-setosa\n",
      "4.8,3.4,1.9,0.2,Iris-setosa\n",
      "5.0,3.0,1.6,0.2,Iris-setosa\n",
      "5.0,3.4,1.6,0.4,Iris-setosa\n",
      "5.2,3.5,1.5,0.2,Iris-setosa\n",
      "5.2,3.4,1.4,0.2,Iris-setosa\n",
      "4.7,3.2,1.6,0.2,Iris-setosa\n",
      "4.8,3.1,1.6,0.2,Iris-setosa\n",
      "5.4,3.4,1.5,0.4,Iris-setosa\n",
      "5.2,4.1,1.5,0.1,Iris-setosa\n",
      "5.5,4.2,1.4,0.2,Iris-setosa\n",
      "4.9,3.1,1.5,0.1,Iris-setosa\n",
      "5.0,3.2,1.2,0.2,Iris-setosa\n",
      "5.5,3.5,1.3,0.2,Iris-setosa\n",
      "4.9,3.1,1.5,0.1,Iris-setosa\n",
      "4.4,3.0,1.3,0.2,Iris-setosa\n",
      "5.1,3.4,1.5,0.2,Iris-setosa\n",
      "5.0,3.5,1.3,0.3,Iris-setosa\n",
      "4.5,2.3,1.3,0.3,Iris-setosa\n",
      "4.4,3.2,1.3,0.2,Iris-setosa\n",
      "5.0,3.5,1.6,0.6,Iris-setosa\n",
      "5.1,3.8,1.9,0.4,Iris-setosa\n",
      "4.8,3.0,1.4,0.3,Iris-setosa\n",
      "5.1,3.8,1.6,0.2,Iris-setosa\n",
      "4.6,3.2,1.4,0.2,Iris-setosa\n",
      "5.3,3.7,1.5,0.2,Iris-setosa\n",
      "5.0,3.3,1.4,0.2,Iris-setosa\n",
      "7.0,3.2,4.7,1.4,Iris-versicolor\n",
      "6.4,3.2,4.5,1.5,Iris-versicolor\n",
      "6.9,3.1,4.9,1.5,Iris-versicolor\n",
      "5.5,2.3,4.0,1.3,Iris-versicolor\n",
      "6.5,2.8,4.6,1.5,Iris-versicolor\n",
      "5.7,2.8,4.5,1.3,Iris-versicolor\n",
      "6.3,3.3,4.7,1.6,Iris-versicolor\n",
      "4.9,2.4,3.3,1.0,Iris-versicolor\n",
      "6.6,2.9,4.6,1.3,Iris-versicolor\n",
      "5.2,2.7,3.9,1.4,Iris-versicolor\n",
      "5.0,2.0,3.5,1.0,Iris-versicolor\n",
      "5.9,3.0,4.2,1.5,Iris-versicolor\n",
      "6.0,2.2,4.0,1.0,Iris-versicolor\n",
      "6.1,2.9,4.7,1.4,Iris-versicolor\n",
      "5.6,2.9,3.6,1.3,Iris-versicolor\n",
      "6.7,3.1,4.4,1.4,Iris-versicolor\n",
      "5.6,3.0,4.5,1.5,Iris-versicolor\n",
      "5.8,2.7,4.1,1.0,Iris-versicolor\n",
      "6.2,2.2,4.5,1.5,Iris-versicolor\n",
      "5.6,2.5,3.9,1.1,Iris-versicolor\n",
      "5.9,3.2,4.8,1.8,Iris-versicolor\n",
      "6.1,2.8,4.0,1.3,Iris-versicolor\n",
      "6.3,NA,4.9,1.5,Iris-versicolor\n",
      "6.1,2.8,4.7,1.2,Iris-versicolor\n",
      "6.4,2.9,4.3,1.3,Iris-versicolor\n",
      "6.6,3.0,4.4,1.4,Iris-versicolor\n",
      "6.8,2.8,4.8,1.4,Iris-versicolor\n",
      "6.7,3.0,5.0,1.7,Iris-versicolor\n",
      "6.0,2.9,4.5,1.5,Iris-versicolor\n",
      "5.7,2.6,3.5,1.0,Iris-versicolor\n",
      "5.5,2.4,3.8,1.1,Iris-versicolor\n",
      "5.5,2.4,3.7,1.0,Iris-versicolor\n",
      "5.8,2.7,3.9,1.2,Iris-versicolor\n",
      "6.0,2.7,5.1,1.6,Iris-versicolor\n",
      "5.4,3.0,4.5,1.5,Iris-versicolor\n",
      "6.0,3.4,4.5,1.6,Iris-versicolor\n",
      "6.7,3.1,4.7,1.5,Iris-versicolor\n",
      "6.3,2.3,4.4,1.3,Iris-versicolor\n",
      "5.6,NA,4.1,1.3,Iris-versicolor\n",
      "5.5,2.5,4.0,1.3,Iris-versicolor\n",
      "5.5,2.6,4.4,1.2,Iris-versicolor\n",
      "6.1,3.0,4.6,1.4,Iris-versicolor\n",
      "5.8,2.6,4.0,1.2,Iris-versicolor\n",
      "5.0,2.3,3.3,1.0,Iris-versicolor\n",
      "5.6,2.7,4.2,1.3,Iris-versicolor\n",
      "5.7,3.0,4.2,1.2,Iris-versicolor\n",
      "5.7,2.9,4.2,1.3,Iris-versicolor\n",
      "6.2,2.9,4.3,1.3,Iris-versicolor\n",
      "5.1,2.5,3.0,1.1,Iris-versicolor\n",
      "5.7,2.8,4.1,1.3,Iris-versicolor\n",
      "6.3,3.3,6.0,2.5,Iris-virginica\n",
      "5.8,2.7,5.1,1.9,Iris-virginica\n",
      "7.1,3.0,5.9,2.1,Iris-virginica\n",
      "6.3,2.9,5.6,1.8,Iris-virginica\n",
      "6.5,3.0,5.8,2.2,Iris-virginica\n",
      "7.6,3.0,6.6,2.1,Iris-virginica\n",
      "4.9,2.5,4.5,1.7,Iris-virginica\n",
      "7.3,2.9,6.3,1.8,Iris-virginica\n",
      "6.7,2.5,5.8,1.8,Iris-virginica\n",
      "7.2,3.6,6.1,2.5,Iris-virginica\n",
      "6.5,3.2,5.1,2.0,Iris-virginica\n",
      "6.4,2.7,5.3,1.9,Iris-virginica\n",
      "6.8,3.0,5.5,2.1,Iris-virginica\n",
      "5.7,2.5,5.0,2.0,Iris-virginica\n",
      "5.8,2.8,5.1,2.4,Iris-virginica\n",
      "6.4,3.2,5.3,2.3,Iris-virginica\n",
      "6.5,3.0,5.5,1.8,Iris-virginica\n",
      "7.7,3.8,6.7,2.2,Iris-virginica\n",
      "7.7,2.6,6.9,2.3,Iris-virginica\n",
      "6.0,2.2,5.0,1.5,Iris-virginica\n",
      "6.9,3.2,5.7,2.3,Iris-virginica\n",
      "5.6,2.8,4.9,2.0,Iris-virginica\n",
      "7.7,2.8,6.7,2.0,Iris-virginica\n",
      "6.3,2.7,4.9,1.8,Iris-virginica\n",
      "6.7,3.3,5.7,2.1,Iris-virginica\n",
      "7.2,3.2,6.0,1.8,Iris-virginica\n",
      "6.2,2.8,4.8,1.8,Iris-virginica\n",
      "6.1,3.0,4.9,1.8,Iris-virginica\n",
      "6.4,2.8,5.6,2.1,Iris-virginica\n",
      "7.2,3.0,5.8,1.6,Iris-virginica\n",
      "7.4,2.8,6.1,1.9,Iris-virginica\n",
      "7.9,3.8,6.4,2.0,Iris-virginica\n",
      "6.4,2.8,5.6,2.2,Iris-virginica\n",
      "6.3,2.8,5.1,1.5,Iris-virginica\n",
      "6.1,2.6,5.6,1.4,Iris-virginica\n",
      "7.7,3.0,6.1,2.3,Iris-virginica\n",
      "6.3,3.4,5.6,2.4,Iris-virginica\n",
      "6.4,3.1,5.5,1.8,Iris-virginica\n",
      "6.0,3.0,4.8,1.8,Iris-virginica\n",
      "6.9,3.1,5.4,2.1,Iris-virginica\n",
      "6.7,3.1,5.6,2.4,Iris-virginica\n",
      "6.9,3.1,5.1,2.3,Iris-virginica\n",
      "5.8,2.7,5.1,1.9,Iris-virginica\n",
      "6.8,3.2,5.9,2.3,Iris-virginica\n",
      "6.7,3.3,5.7,2.5,Iris-virginica\n",
      "6.7,3.0,5.2,2.3,Iris-virginica\n",
      "6.3,2.5,5.0,1.9,Iris-virginica\n",
      "6.5,3.0,5.2,2.0,Iris-virginica\n",
      "6.2,3.4,5.4,2.3,Iris-virginica\n",
      "5.9,3.0,5.1,1.8,Iris-virginica\n"
     ]
    }
   ],
   "source": [
    "for item in ireads: \n",
    "    print(item)"
   ]
  },
  {
   "cell_type": "markdown",
   "metadata": {},
   "source": [
    "#### Question 6. Remove any lines that are empty or have \"NA\" in them"
   ]
  },
  {
   "cell_type": "code",
   "execution_count": 12,
   "metadata": {},
   "outputs": [],
   "source": [
    "ireads2 = []\n",
    "for item in ireads:\n",
    "    if 'NA' not in item:\n",
    "        ireads2.append(item)"
   ]
  },
  {
   "cell_type": "markdown",
   "metadata": {},
   "source": [
    "#### Question 7. Concantenate the list back into a string with newline characters between lines"
   ]
  },
  {
   "cell_type": "code",
   "execution_count": 38,
   "metadata": {},
   "outputs": [
    {
     "name": "stdout",
     "output_type": "stream",
     "text": [
      "5.1,3.5,1.4,0.2,Iris-setosa,\n",
      "4.9,3.0,1.4,0.2,Iris-setosa,\n",
      "4.7,3.2,1.3,0.2,Iris-setosa,\n",
      "4.6,3.1,1.5,0.2,Iris-setosa,\n",
      "5.0,3.6,1.4,0.2,Iris-setosa,\n",
      "5.4,3.9,1.7,0.4,Iris-setosa,\n",
      "4.6,3.4,1.4,0.3,Iris-setosa,\n",
      "5.0,3.4,1.5,0.2,Iris-setosa,\n",
      "4.4,2.9,1.4,0.2,Iris-setosa,\n",
      "4.9,3.1,1.5,0.1,Iris-setosa,\n",
      "5.4,3.7,1.5,0.2,Iris-setosa,\n",
      "4.8,3.4,1.6,0.2,Iris-setosa,\n",
      "4.8,3.0,1.4,0.1,Iris-setosa,\n",
      "4.3,3.0,1.1,0.1,Iris-setosa,\n",
      "5.8,4.0,1.2,0.2,Iris-setosa,\n",
      "5.7,4.4,1.5,0.4,Iris-setosa,\n",
      "5.4,3.9,1.3,0.4,Iris-setosa,\n",
      "5.1,3.5,1.4,0.3,Iris-setosa,\n",
      "5.7,3.8,1.7,0.3,Iris-setosa,\n",
      "5.1,3.8,1.5,0.3,Iris-setosa,\n",
      "5.4,3.4,1.7,0.2,Iris-setosa,\n",
      "5.1,3.7,1.5,0.4,Iris-setosa,\n",
      "4.6,3.6,1.0,0.2,Iris-setosa,\n",
      "5.1,3.3,1.7,0.5,Iris-setosa,\n",
      "4.8,3.4,1.9,0.2,Iris-setosa,\n",
      "5.0,3.0,1.6,0.2,Iris-setosa,\n",
      "5.0,3.4,1.6,0.4,Iris-setosa,\n",
      "5.2,3.5,1.5,0.2,Iris-setosa,\n",
      "5.2,3.4,1.4,0.2,Iris-setosa,\n",
      "4.7,3.2,1.6,0.2,Iris-setosa,\n",
      "4.8,3.1,1.6,0.2,Iris-setosa,\n",
      "5.4,3.4,1.5,0.4,Iris-setosa,\n",
      "5.2,4.1,1.5,0.1,Iris-setosa,\n",
      "5.5,4.2,1.4,0.2,Iris-setosa,\n",
      "4.9,3.1,1.5,0.1,Iris-setosa,\n",
      "5.0,3.2,1.2,0.2,Iris-setosa,\n",
      "5.5,3.5,1.3,0.2,Iris-setosa,\n",
      "4.9,3.1,1.5,0.1,Iris-setosa,\n",
      "4.4,3.0,1.3,0.2,Iris-setosa,\n",
      "5.1,3.4,1.5,0.2,Iris-setosa,\n",
      "5.0,3.5,1.3,0.3,Iris-setosa,\n",
      "4.5,2.3,1.3,0.3,Iris-setosa,\n",
      "4.4,3.2,1.3,0.2,Iris-setosa,\n",
      "5.0,3.5,1.6,0.6,Iris-setosa,\n",
      "5.1,3.8,1.9,0.4,Iris-setosa,\n",
      "4.8,3.0,1.4,0.3,Iris-setosa,\n",
      "5.1,3.8,1.6,0.2,Iris-setosa,\n",
      "4.6,3.2,1.4,0.2,Iris-setosa,\n",
      "5.3,3.7,1.5,0.2,Iris-setosa,\n",
      "5.0,3.3,1.4,0.2,Iris-setosa,\n",
      "7.0,3.2,4.7,1.4,Iris-versicolor,\n",
      "6.4,3.2,4.5,1.5,Iris-versicolor,\n",
      "6.9,3.1,4.9,1.5,Iris-versicolor,\n",
      "5.5,2.3,4.0,1.3,Iris-versicolor,\n",
      "6.5,2.8,4.6,1.5,Iris-versicolor,\n",
      "5.7,2.8,4.5,1.3,Iris-versicolor,\n",
      "6.3,3.3,4.7,1.6,Iris-versicolor,\n",
      "4.9,2.4,3.3,1.0,Iris-versicolor,\n",
      "6.6,2.9,4.6,1.3,Iris-versicolor,\n",
      "5.2,2.7,3.9,1.4,Iris-versicolor,\n",
      "5.0,2.0,3.5,1.0,Iris-versicolor,\n",
      "5.9,3.0,4.2,1.5,Iris-versicolor,\n",
      "6.0,2.2,4.0,1.0,Iris-versicolor,\n",
      "6.1,2.9,4.7,1.4,Iris-versicolor,\n",
      "5.6,2.9,3.6,1.3,Iris-versicolor,\n",
      "6.7,3.1,4.4,1.4,Iris-versicolor,\n",
      "5.6,3.0,4.5,1.5,Iris-versicolor,\n",
      "5.8,2.7,4.1,1.0,Iris-versicolor,\n",
      "6.2,2.2,4.5,1.5,Iris-versicolor,\n",
      "5.6,2.5,3.9,1.1,Iris-versicolor,\n",
      "5.9,3.2,4.8,1.8,Iris-versicolor,\n",
      "6.1,2.8,4.0,1.3,Iris-versicolor,\n",
      "6.1,2.8,4.7,1.2,Iris-versicolor,\n",
      "6.4,2.9,4.3,1.3,Iris-versicolor,\n",
      "6.6,3.0,4.4,1.4,Iris-versicolor,\n",
      "6.8,2.8,4.8,1.4,Iris-versicolor,\n",
      "6.7,3.0,5.0,1.7,Iris-versicolor,\n",
      "6.0,2.9,4.5,1.5,Iris-versicolor,\n",
      "5.7,2.6,3.5,1.0,Iris-versicolor,\n",
      "5.5,2.4,3.8,1.1,Iris-versicolor,\n",
      "5.5,2.4,3.7,1.0,Iris-versicolor,\n",
      "5.8,2.7,3.9,1.2,Iris-versicolor,\n",
      "6.0,2.7,5.1,1.6,Iris-versicolor,\n",
      "5.4,3.0,4.5,1.5,Iris-versicolor,\n",
      "6.0,3.4,4.5,1.6,Iris-versicolor,\n",
      "6.7,3.1,4.7,1.5,Iris-versicolor,\n",
      "6.3,2.3,4.4,1.3,Iris-versicolor,\n",
      "5.5,2.5,4.0,1.3,Iris-versicolor,\n",
      "5.5,2.6,4.4,1.2,Iris-versicolor,\n",
      "6.1,3.0,4.6,1.4,Iris-versicolor,\n",
      "5.8,2.6,4.0,1.2,Iris-versicolor,\n",
      "5.0,2.3,3.3,1.0,Iris-versicolor,\n",
      "5.6,2.7,4.2,1.3,Iris-versicolor,\n",
      "5.7,3.0,4.2,1.2,Iris-versicolor,\n",
      "5.7,2.9,4.2,1.3,Iris-versicolor,\n",
      "6.2,2.9,4.3,1.3,Iris-versicolor,\n",
      "5.1,2.5,3.0,1.1,Iris-versicolor,\n",
      "5.7,2.8,4.1,1.3,Iris-versicolor,\n",
      "6.3,3.3,6.0,2.5,Iris-virginica,\n",
      "5.8,2.7,5.1,1.9,Iris-virginica,\n",
      "7.1,3.0,5.9,2.1,Iris-virginica,\n",
      "6.3,2.9,5.6,1.8,Iris-virginica,\n",
      "6.5,3.0,5.8,2.2,Iris-virginica,\n",
      "7.6,3.0,6.6,2.1,Iris-virginica,\n",
      "4.9,2.5,4.5,1.7,Iris-virginica,\n",
      "7.3,2.9,6.3,1.8,Iris-virginica,\n",
      "6.7,2.5,5.8,1.8,Iris-virginica,\n",
      "7.2,3.6,6.1,2.5,Iris-virginica,\n",
      "6.5,3.2,5.1,2.0,Iris-virginica,\n",
      "6.4,2.7,5.3,1.9,Iris-virginica,\n",
      "6.8,3.0,5.5,2.1,Iris-virginica,\n",
      "5.7,2.5,5.0,2.0,Iris-virginica,\n",
      "5.8,2.8,5.1,2.4,Iris-virginica,\n",
      "6.4,3.2,5.3,2.3,Iris-virginica,\n",
      "6.5,3.0,5.5,1.8,Iris-virginica,\n",
      "7.7,3.8,6.7,2.2,Iris-virginica,\n",
      "7.7,2.6,6.9,2.3,Iris-virginica,\n",
      "6.0,2.2,5.0,1.5,Iris-virginica,\n",
      "6.9,3.2,5.7,2.3,Iris-virginica,\n",
      "5.6,2.8,4.9,2.0,Iris-virginica,\n",
      "7.7,2.8,6.7,2.0,Iris-virginica,\n",
      "6.3,2.7,4.9,1.8,Iris-virginica,\n",
      "6.7,3.3,5.7,2.1,Iris-virginica,\n",
      "7.2,3.2,6.0,1.8,Iris-virginica,\n",
      "6.2,2.8,4.8,1.8,Iris-virginica,\n",
      "6.1,3.0,4.9,1.8,Iris-virginica,\n",
      "6.4,2.8,5.6,2.1,Iris-virginica,\n",
      "7.2,3.0,5.8,1.6,Iris-virginica,\n",
      "7.4,2.8,6.1,1.9,Iris-virginica,\n",
      "7.9,3.8,6.4,2.0,Iris-virginica,\n",
      "6.4,2.8,5.6,2.2,Iris-virginica,\n",
      "6.3,2.8,5.1,1.5,Iris-virginica,\n",
      "6.1,2.6,5.6,1.4,Iris-virginica,\n",
      "7.7,3.0,6.1,2.3,Iris-virginica,\n",
      "6.3,3.4,5.6,2.4,Iris-virginica,\n",
      "6.4,3.1,5.5,1.8,Iris-virginica,\n",
      "6.0,3.0,4.8,1.8,Iris-virginica,\n",
      "6.9,3.1,5.4,2.1,Iris-virginica,\n",
      "6.7,3.1,5.6,2.4,Iris-virginica,\n",
      "6.9,3.1,5.1,2.3,Iris-virginica,\n",
      "5.8,2.7,5.1,1.9,Iris-virginica,\n",
      "6.8,3.2,5.9,2.3,Iris-virginica,\n",
      "6.7,3.3,5.7,2.5,Iris-virginica,\n",
      "6.7,3.0,5.2,2.3,Iris-virginica,\n",
      "6.3,2.5,5.0,1.9,Iris-virginica,\n",
      "6.5,3.0,5.2,2.0,Iris-virginica,\n",
      "6.2,3.4,5.4,2.3,Iris-virginica,\n",
      "5.9,3.0,5.1,1.8,Iris-virginica\n"
     ]
    }
   ],
   "source": [
    "istring= \",\\n\".join(ireads2)\n",
    "print(istring)"
   ]
  },
  {
   "cell_type": "code",
   "execution_count": 40,
   "metadata": {},
   "outputs": [],
   "source": [
    "# You could also just code 'istring' instead of 'print(istring)' so that the output is a string and not a list."
   ]
  },
  {
   "cell_type": "markdown",
   "metadata": {},
   "source": [
    "#### Question 8. Write the string to a new file called \"iris-data-clean.csv\""
   ]
  },
  {
   "cell_type": "code",
   "execution_count": 14,
   "metadata": {},
   "outputs": [],
   "source": [
    "with open('iris-data-clean.csv','w') as out:\n",
    "    for row in istring:\n",
    "        out.write(row)"
   ]
  },
  {
   "cell_type": "markdown",
   "metadata": {},
   "source": [
    "## Notebook 3.4"
   ]
  },
  {
   "cell_type": "markdown",
   "metadata": {},
   "source": [
    "#### A. Write a function that will generate and return a random sequence of bases of length N. Hint, for this use a new package from the standard library that we haven't used yet called random. You will need to import the package and then look for commands that you can use. One that would work is random.sample, but there are other ways as well. If you get stuck on how to use it then try asking google."
   ]
  },
  {
   "cell_type": "code",
   "execution_count": 44,
   "metadata": {},
   "outputs": [
    {
     "name": "stdout",
     "output_type": "stream",
     "text": [
      "['A', 'T', 'G', 'C']\n"
     ]
    }
   ],
   "source": [
    "import random\n",
    "def func1(x):\n",
    "    return print(random.sample(x, 4))\n",
    "\n",
    "func1('ACTG')\n"
   ]
  },
  {
   "cell_type": "code",
   "execution_count": 50,
   "metadata": {},
   "outputs": [
    {
     "name": "stdout",
     "output_type": "stream",
     "text": [
      "[['T'], ['T'], ['T'], ['G'], ['G'], ['C'], ['C'], ['T'], ['A'], ['G'], ['G'], ['G'], ['G'], ['G'], ['C'], ['C'], ['G'], ['G'], ['G'], ['T']]\n"
     ]
    }
   ],
   "source": [
    "# Your code doesn't provide a randomized sequence of more than 4 bases. This is what i did for mine. Its not perfect, I couldn't figure out how to print it without brackets. But maybe it will help! \n",
    "#N=20\n",
    "#def ransamp(length):\n",
    "    #bases = \"AGCT\"\n",
    "    #seq = []\n",
    "    #for i in range(N):\n",
    "        #seq.append(random.sample(bases,1))\n",
    "    #print(seq)\n",
    "#ransamp(N)"
   ]
  },
  {
   "cell_type": "markdown",
   "metadata": {},
   "source": [
    "#### B. Write a function to calculate and return the frequency of As, Cs, Ts and Gs in a sequence."
   ]
  },
  {
   "cell_type": "code",
   "execution_count": 19,
   "metadata": {},
   "outputs": [],
   "source": [
    "dna1 = \"ACAGAGTTGCCAGGAGATGACAGAAAGGTGTGGGTTACAACTCTCTCTAATTTAAGGGCCAATTAACATT\"\n",
    "dna2 = \"ACAGAGTCGCCAGGAGATGACAGAAAGGTCTGGGTTACAACTCTCTCTAAAATAAGGGCCAATTAACGTT\""
   ]
  },
  {
   "cell_type": "code",
   "execution_count": 53,
   "metadata": {},
   "outputs": [
    {
     "name": "stdout",
     "output_type": "stream",
     "text": [
      "23\n",
      "12\n",
      "18\n",
      "17\n"
     ]
    },
    {
     "data": {
      "text/plain": [
       "(None, None, None, None)"
      ]
     },
     "execution_count": 53,
     "metadata": {},
     "output_type": "execute_result"
    }
   ],
   "source": [
    "def func2(a):\n",
    "    return(print(a.count('A')),\n",
    "           print(a.count('C')),\n",
    "           print(a.count('T')),\n",
    "           print(a.count('G'))) \n",
    "\n",
    "func2(dna1)"
   ]
  },
  {
   "cell_type": "code",
   "execution_count": 52,
   "metadata": {},
   "outputs": [
    {
     "data": {
      "text/plain": [
       "(23, 12, 18, 17)"
      ]
     },
     "execution_count": 52,
     "metadata": {},
     "output_type": "execute_result"
    }
   ],
   "source": [
    "# This is so much more clean than what I did, great job! I found that if you remove the print function, it returns it without the (none,none,none,none) output\n",
    "def func2(a):\n",
    "    return((a.count('A')),\n",
    "           (a.count('C')),\n",
    "           (a.count('T')),\n",
    "           (a.count('G'))) \n",
    "\n",
    "func2(dna1)"
   ]
  },
  {
   "cell_type": "markdown",
   "metadata": {},
   "source": [
    "#### C. Write a function to concantenate (join end-to-end) two sequences and return it"
   ]
  },
  {
   "cell_type": "code",
   "execution_count": 22,
   "metadata": {},
   "outputs": [
    {
     "name": "stdout",
     "output_type": "stream",
     "text": [
      "ACAGAGTTGCCAGGAGATGACAGAAAGGTGTGGGTTACAACTCTCTCTAATTTAAGGGCCAATTAACATTACAGAGTCGCCAGGAGATGACAGAAAGGTCTGGGTTACAACTCTCTCTAAAATAAGGGCCAATTAACGTT\n"
     ]
    }
   ],
   "source": [
    "def func3(x, y):\n",
    "    return(print(x+y))\n",
    "\n",
    "func3(dna1, dna2)"
   ]
  },
  {
   "cell_type": "markdown",
   "metadata": {},
   "source": [
    "#### D. Write a function to take two sequences of differetn lengths and return both trimmed down to the same length"
   ]
  },
  {
   "cell_type": "code",
   "execution_count": 23,
   "metadata": {
    "scrolled": true
   },
   "outputs": [
    {
     "name": "stdout",
     "output_type": "stream",
     "text": [
      "ACAGAGTTGCCAGGAGATGACAGAAAGGTGTGGGTTACAACTCTCTCTAATTTAAGGGCCAATTAACATT\n",
      "ACAGAGTCGCCAGGAGATGACAGAAAGGTCTGGGTTACAACTCTCTCTAAAATAAGGGCCAATTAACGTT\n"
     ]
    },
    {
     "data": {
      "text/plain": [
       "(None, None)"
      ]
     },
     "execution_count": 23,
     "metadata": {},
     "output_type": "execute_result"
    }
   ],
   "source": [
    "def func4(x, y):\n",
    "    slen = min([len(i) for i in (x, y)]) #slen is the shortest length \n",
    "    return(print(x[:slen]),\n",
    "           print(y[:slen])) #print both x and y according to the range of slen\n",
    "\n",
    "func4(dna1, dna2)"
   ]
  },
  {
   "cell_type": "code",
   "execution_count": 64,
   "metadata": {},
   "outputs": [
    {
     "name": "stdout",
     "output_type": "stream",
     "text": [
      "ACAGAGTTGCCAGGAGATGACAGAAAGGTGTGGGTTACAACTCTCTCTAATTTAAGGGCCAATTAACATT\n",
      "ACAGAGTCGCCAGGAGATGACAGAAAGGTCTGGGTTACAACTCTCTCTAAAATAAGGGCCAATTAACGTT\n"
     ]
    }
   ],
   "source": [
    "# In this question you can also get rid of the (none, none) output. If you remove the 'return' argument it prints out only the sequences\n",
    "def func4(x, y):\n",
    "    slen = min([len(i) for i in (x, y)]) #slen is the shortest length \n",
    "    print(x[:slen])\n",
    "    print(y[:slen]) #print both x and y according to the range of slen\n",
    "\n",
    "func4(dna1, dna2)"
   ]
  },
  {
   "cell_type": "markdown",
   "metadata": {},
   "source": [
    "#### E. Write a function to return the proportion of bases across the shared length between two sequences that are the same. In this function, use the function that you created in D above to convert the sequences to be the same length (even if this is not necessarily the most efficient way to complete this task)."
   ]
  },
  {
   "cell_type": "code",
   "execution_count": 24,
   "metadata": {},
   "outputs": [
    {
     "data": {
      "text/plain": [
       "0.07142857142857142"
      ]
     },
     "execution_count": 24,
     "metadata": {},
     "output_type": "execute_result"
    }
   ],
   "source": [
    "def func5(seq1, seq2): \n",
    "   \n",
    "    ## a counter to store the number of diffs\n",
    "    count = 0\n",
    "    \n",
    "    ## iterate over the index of bases and add to count if diff\n",
    "    for idx in range(len(seq1)): #using sequence 1 instead of variable for length of shortest sequence \n",
    "        if seq1[idx] != seq2[idx]:\n",
    "            count += 1\n",
    "    seq1len = len(dna1) #length of sequence 1 \n",
    "    return (count/seq1len) #divide count by bases \n",
    "\n",
    "func5(dna1, dna2)"
   ]
  }
 ],
 "metadata": {
  "kernelspec": {
   "display_name": "Python 3",
   "language": "python",
   "name": "python3"
  },
  "language_info": {
   "codemirror_mode": {
    "name": "ipython",
    "version": 3
   },
   "file_extension": ".py",
   "mimetype": "text/x-python",
   "name": "python",
   "nbconvert_exporter": "python",
   "pygments_lexer": "ipython3",
   "version": "3.6.3"
  }
 },
 "nbformat": 4,
 "nbformat_minor": 2
}
